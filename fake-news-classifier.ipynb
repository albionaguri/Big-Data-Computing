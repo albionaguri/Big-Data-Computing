{
 "cells": [
  {
   "cell_type": "markdown",
   "id": "4fb17eb5",
   "metadata": {},
   "source": [
    "## Fake News Binary Classification Problem"
   ]
  },
  {
   "cell_type": "code",
   "execution_count": 90,
   "id": "404fb21f",
   "metadata": {},
   "outputs": [],
   "source": [
    "# !pip install pyspark\n",
    "# !pip install requests\n",
    "# !pip install pandas\n",
    "# !pip install numpy\n",
    "# !pip install gc\n",
    "# !pip install seaborn\n",
    "# !pip install transformers\n",
    "# !pip install torch\n",
    "# !pip install matplotlib\n",
    "# !pip install datasets\n",
    "# !pip install sklearn"
   ]
  },
  {
   "cell_type": "code",
   "execution_count": 91,
   "id": "46f0d947",
   "metadata": {},
   "outputs": [],
   "source": [
    "# import libraries\n",
    "\n",
    "import requests\n",
    "import pandas as pd\n",
    "import numpy as np\n",
    "import matplotlib.pyplot as plt\n",
    "import seaborn as sns\n",
    "%matplotlib inline\n",
    "\n",
    "import pyspark\n",
    "from pyspark.sql import *\n",
    "from pyspark.sql.types import *\n",
    "from pyspark.sql.functions import *\n",
    "from pyspark import SparkContext, SparkConf"
   ]
  },
  {
   "cell_type": "markdown",
   "id": "f54ea3e5",
   "metadata": {},
   "source": [
    "#### Specify the configuration of the Spark application"
   ]
  },
  {
   "cell_type": "code",
   "execution_count": 92,
   "id": "4561fa01",
   "metadata": {},
   "outputs": [],
   "source": [
    "\n",
    "conf = SparkConf().set(\"spark.ui.port\", \"4050\").set('spark.executor.memory', '4G').set('spark.driver.memory', '45G').set('spark.driver.maxResultSize', '10G')\n"
   ]
  },
  {
   "cell_type": "markdown",
   "id": "ed3262cb",
   "metadata": {},
   "source": [
    "#### Create spark session\n"
   ]
  },
  {
   "cell_type": "code",
   "execution_count": 93,
   "id": "f33a5cef",
   "metadata": {},
   "outputs": [],
   "source": [
    "import os\n",
    "os.environ['PYSPARK_PYTHON'] = sys.executable\n",
    "os.environ['PYSPARK_DRIVER_PYTHON'] = sys.executable\n",
    "spark = SparkSession.builder.getOrCreate()"
   ]
  },
  {
   "cell_type": "code",
   "execution_count": 94,
   "id": "035787ad",
   "metadata": {},
   "outputs": [
    {
     "data": {
      "text/html": [
       "\n",
       "            <div>\n",
       "                <p><b>SparkSession - in-memory</b></p>\n",
       "                \n",
       "        <div>\n",
       "            <p><b>SparkContext</b></p>\n",
       "\n",
       "            <p><a href=\"http://DESKTOP-ESFDDBV.mshome.net:4040\">Spark UI</a></p>\n",
       "\n",
       "            <dl>\n",
       "              <dt>Version</dt>\n",
       "                <dd><code>v3.1.2</code></dd>\n",
       "              <dt>Master</dt>\n",
       "                <dd><code>local[*]</code></dd>\n",
       "              <dt>AppName</dt>\n",
       "                <dd><code>pyspark-shell</code></dd>\n",
       "            </dl>\n",
       "        </div>\n",
       "        \n",
       "            </div>\n",
       "        "
      ],
      "text/plain": [
       "<pyspark.sql.session.SparkSession at 0x21978bf27c0>"
      ]
     },
     "execution_count": 94,
     "metadata": {},
     "output_type": "execute_result"
    }
   ],
   "source": [
    "spark"
   ]
  },
  {
   "cell_type": "markdown",
   "id": "f09385e9",
   "metadata": {},
   "source": [
    "#### Dataset Exploration"
   ]
  },
  {
   "cell_type": "code",
   "execution_count": 95,
   "id": "13cb5a15",
   "metadata": {},
   "outputs": [],
   "source": [
    "# Read the dataset \n",
    "\n",
    "news_df = spark.read.csv(path=\"news.csv\",\n",
    "                         sep=\",\",\n",
    "                         inferSchema=\"true\",\n",
    "                         header=\"true\")\n"
   ]
  },
  {
   "cell_type": "code",
   "execution_count": 96,
   "id": "a53354c8",
   "metadata": {},
   "outputs": [],
   "source": [
    "news_df = news_df.orderBy(rand())"
   ]
  },
  {
   "cell_type": "code",
   "execution_count": 97,
   "id": "c3dedd48",
   "metadata": {},
   "outputs": [],
   "source": [
    "news_df = news_df.limit(10000)"
   ]
  },
  {
   "cell_type": "code",
   "execution_count": 98,
   "id": "abe5f297",
   "metadata": {},
   "outputs": [
    {
     "name": "stdout",
     "output_type": "stream",
     "text": [
      "+--------------------+--------------------+--------------------+--------------------+-----+\n",
      "|               title|                text|             subject|                date|label|\n",
      "+--------------------+--------------------+--------------------+--------------------+-----+\n",
      "|BREAKING NEWS: VI...|First lady Melani...|            politics|         Jul 7, 2017|    1|\n",
      "| Former FBI Agent...|Donald Trump is t...|                News|      August 6, 2017|    1|\n",
      "|Red Cross appeals...|GENEVA (Reuters) ...|           worldnews|   November 7, 2017 |    0|\n",
      "|Poland's PM desig...|WARSAW (Reuters) ...|           worldnews|   December 8, 2017 |    0|\n",
      "|WHICH IS IT? DID ...|WATCH: Susan Rice...|           left-news|         Apr 4, 2017|    1|\n",
      "| Trump Tries To I...|\"While Donald Tru...| does a Hillary C...| 2016Featured ima...| News|\n",
      "|SHE SHOULD NEVER ...|CAN WE JUST STOP ...|            politics|         Dec 4, 2015|    1|\n",
      "| REPORT: Team Tru...|The entire nation...|                News|   November 16, 2016|    1|\n",
      "|U.N. judicial rig...|GENEVA (Reuters) ...|           worldnews|  December 22, 2017 |    0|\n",
      "|House Intelligenc...|WASHINGTON (Reute...|        politicsNews|     March 27, 2017 |    0|\n",
      "|Kremlin: U.S. arm...|MOSCOW (Reuters) ...|           worldnews|  December 21, 2017 |    0|\n",
      "|German Greens wan...|BERLIN (Reuters) ...|           worldnews|  November 15, 2017 |    0|\n",
      "|JUST IN: FCC VOTE...|Today, the FCC vo...|            politics|        Dec 14, 2017|    1|\n",
      "|Trump presidency ...|TOKYO/SEOUL (Reut...|        politicsNews|   November 9, 2016 |    0|\n",
      "|Ryanair loses EU ...|LUXEMBOURG/BRUSSE...|           worldnews| September 14, 2017 |    0|\n",
      "+--------------------+--------------------+--------------------+--------------------+-----+\n",
      "only showing top 15 rows\n",
      "\n"
     ]
    }
   ],
   "source": [
    "news_df.show(15)"
   ]
  },
  {
   "cell_type": "code",
   "execution_count": 99,
   "id": "d35fd528",
   "metadata": {},
   "outputs": [
    {
     "name": "stdout",
     "output_type": "stream",
     "text": [
      "root\n",
      " |-- title: string (nullable = true)\n",
      " |-- text: string (nullable = true)\n",
      " |-- subject: string (nullable = true)\n",
      " |-- date: string (nullable = true)\n",
      " |-- label: string (nullable = true)\n",
      "\n"
     ]
    }
   ],
   "source": [
    "# Types of the features of the dataframe\n",
    "\n",
    "news_df.printSchema()"
   ]
  },
  {
   "cell_type": "code",
   "execution_count": 100,
   "id": "22a968bd",
   "metadata": {},
   "outputs": [
    {
     "name": "stdout",
     "output_type": "stream",
     "text": [
      "The shape of the dataset is 10000 rows by 5 columns\n"
     ]
    }
   ],
   "source": [
    "# Shape of the dataset\n",
    "\n",
    "print(\"The shape of the dataset is {:d} rows by {:d} columns\".format(news_df.count(), len(news_df.columns)))\n"
   ]
  },
  {
   "cell_type": "code",
   "execution_count": 101,
   "id": "ffc811d4",
   "metadata": {},
   "outputs": [
    {
     "name": "stdout",
     "output_type": "stream",
     "text": [
      "+-------+\n",
      "|  label|\n",
      "+-------+\n",
      "|      1|\n",
      "|      1|\n",
      "|      0|\n",
      "|      0|\n",
      "|      1|\n",
      "|   News|\n",
      "|      1|\n",
      "|      1|\n",
      "|      0|\n",
      "|      0|\n",
      "|      0|\n",
      "|      0|\n",
      "|      1|\n",
      "|      0|\n",
      "|      0|\n",
      "|      0|\n",
      "|      1|\n",
      "|      1|\n",
      "|      1|\n",
      "|      0|\n",
      "|      0|\n",
      "|      1|\n",
      "|      0|\n",
      "|US_News|\n",
      "|      1|\n",
      "|      0|\n",
      "|      1|\n",
      "|      1|\n",
      "|      1|\n",
      "|      1|\n",
      "|      1|\n",
      "|      0|\n",
      "|      1|\n",
      "|      0|\n",
      "|      1|\n",
      "|      1|\n",
      "|      0|\n",
      "|      1|\n",
      "|      0|\n",
      "|      1|\n",
      "|      0|\n",
      "|      0|\n",
      "|      1|\n",
      "|      0|\n",
      "|      0|\n",
      "|      1|\n",
      "|      0|\n",
      "|      0|\n",
      "|      0|\n",
      "|      1|\n",
      "|      0|\n",
      "|      0|\n",
      "|      1|\n",
      "|      0|\n",
      "|      1|\n",
      "|      1|\n",
      "|      1|\n",
      "|      1|\n",
      "|      1|\n",
      "|      1|\n",
      "|      1|\n",
      "|      1|\n",
      "|      1|\n",
      "|      0|\n",
      "|      1|\n",
      "|      0|\n",
      "|      0|\n",
      "|      1|\n",
      "|      1|\n",
      "|      0|\n",
      "|      0|\n",
      "|      1|\n",
      "|      0|\n",
      "|      1|\n",
      "|      1|\n",
      "|      1|\n",
      "|      1|\n",
      "|      1|\n",
      "|      0|\n",
      "|      0|\n",
      "|      1|\n",
      "|      1|\n",
      "|      1|\n",
      "|      0|\n",
      "|      0|\n",
      "|      1|\n",
      "|      0|\n",
      "|      1|\n",
      "|      0|\n",
      "|      0|\n",
      "|      1|\n",
      "|      0|\n",
      "|      0|\n",
      "|      0|\n",
      "|      0|\n",
      "|      1|\n",
      "|      1|\n",
      "|      1|\n",
      "|      1|\n",
      "|      0|\n",
      "+-------+\n",
      "only showing top 100 rows\n",
      "\n"
     ]
    }
   ],
   "source": [
    "# Display values of the target\n",
    "\n",
    "news_df.select(\"label\").show(100)"
   ]
  },
  {
   "cell_type": "code",
   "execution_count": 102,
   "id": "b5f49d85",
   "metadata": {},
   "outputs": [],
   "source": [
    "# Remove unimportant rows of the df\n",
    "\n",
    "news_df = news_df.filter((news_df.label == 1) | (news_df.label == 0))"
   ]
  },
  {
   "cell_type": "code",
   "execution_count": 103,
   "id": "2cbeeb60",
   "metadata": {},
   "outputs": [
    {
     "data": {
      "text/plain": [
       "9713"
      ]
     },
     "execution_count": 103,
     "metadata": {},
     "output_type": "execute_result"
    }
   ],
   "source": [
    "# Displaying the shape of the df after removing unnecessary rows\n",
    "\n",
    "news_df.count()"
   ]
  },
  {
   "cell_type": "code",
   "execution_count": 104,
   "id": "f5a7e7dc",
   "metadata": {},
   "outputs": [
    {
     "name": "stdout",
     "output_type": "stream",
     "text": [
      "+--------------------+--------------------+------------+-------------------+-----+\n",
      "|               title|                text|     subject|               date|label|\n",
      "+--------------------+--------------------+------------+-------------------+-----+\n",
      "|BREAKING NEWS: VI...|First lady Melani...|    politics|        Jul 7, 2017|    1|\n",
      "| Former FBI Agent...|Donald Trump is t...|        News|     August 6, 2017|    1|\n",
      "|Red Cross appeals...|GENEVA (Reuters) ...|   worldnews|  November 7, 2017 |    0|\n",
      "|Poland's PM desig...|WARSAW (Reuters) ...|   worldnews|  December 8, 2017 |    0|\n",
      "|WHICH IS IT? DID ...|WATCH: Susan Rice...|   left-news|        Apr 4, 2017|    1|\n",
      "|SHE SHOULD NEVER ...|CAN WE JUST STOP ...|    politics|        Dec 4, 2015|    1|\n",
      "| REPORT: Team Tru...|The entire nation...|        News|  November 16, 2016|    1|\n",
      "|U.N. judicial rig...|GENEVA (Reuters) ...|   worldnews| December 22, 2017 |    0|\n",
      "|House Intelligenc...|WASHINGTON (Reute...|politicsNews|    March 27, 2017 |    0|\n",
      "|Kremlin: U.S. arm...|MOSCOW (Reuters) ...|   worldnews| December 21, 2017 |    0|\n",
      "|German Greens wan...|BERLIN (Reuters) ...|   worldnews| November 15, 2017 |    0|\n",
      "|JUST IN: FCC VOTE...|Today, the FCC vo...|    politics|       Dec 14, 2017|    1|\n",
      "|Trump presidency ...|TOKYO/SEOUL (Reut...|politicsNews|  November 9, 2016 |    0|\n",
      "|Ryanair loses EU ...|LUXEMBOURG/BRUSSE...|   worldnews|September 14, 2017 |    0|\n",
      "|Exclusive: Camero...|ABUJA/DAKAR (Reut...|   worldnews| December 20, 2017 |    0|\n",
      "+--------------------+--------------------+------------+-------------------+-----+\n",
      "only showing top 15 rows\n",
      "\n"
     ]
    }
   ],
   "source": [
    "# show  first rows of the dataframe\n",
    "\n",
    "news_df.show(n=15)"
   ]
  },
  {
   "cell_type": "code",
   "execution_count": 105,
   "id": "481ce653",
   "metadata": {},
   "outputs": [],
   "source": [
    "# Convert string data type into integer type\n",
    "\n",
    "news_df = news_df.withColumn(\"label\", news_df.label.cast('int'))\n"
   ]
  },
  {
   "cell_type": "code",
   "execution_count": 106,
   "id": "c6ad3724",
   "metadata": {},
   "outputs": [
    {
     "data": {
      "text/plain": [
       "[('label', 'int')]"
      ]
     },
     "execution_count": 106,
     "metadata": {},
     "output_type": "execute_result"
    }
   ],
   "source": [
    "news_df.select(\"label\").dtypes"
   ]
  },
  {
   "cell_type": "code",
   "execution_count": 107,
   "id": "c3f7cc1a",
   "metadata": {},
   "outputs": [],
   "source": [
    "# import libraries for text cleaning\n",
    "\n",
    "from pyspark.sql.functions import isnan, when, count, col"
   ]
  },
  {
   "cell_type": "code",
   "execution_count": 108,
   "id": "59235ce3",
   "metadata": {},
   "outputs": [
    {
     "name": "stdout",
     "output_type": "stream",
     "text": [
      "+-----+----+-------+----+-----+\n",
      "|title|text|subject|date|label|\n",
      "+-----+----+-------+----+-----+\n",
      "|    0|   0|      0|   0|    0|\n",
      "+-----+----+-------+----+-----+\n",
      "\n"
     ]
    }
   ],
   "source": [
    "# Cheking for null values\n",
    "\n",
    "news_df.select([count(when(isnan(col), col)).alias(col) for col in news_df.columns]).show()\n"
   ]
  },
  {
   "cell_type": "code",
   "execution_count": 109,
   "id": "ea2b3ade",
   "metadata": {},
   "outputs": [],
   "source": [
    "# Removing unimportant features \n",
    "\n",
    "news_df = news_df.drop(\"subject\",\"date\", \"title\")"
   ]
  },
  {
   "cell_type": "code",
   "execution_count": 110,
   "id": "c57c5678",
   "metadata": {},
   "outputs": [
    {
     "data": {
      "text/plain": [
       "['text', 'label']"
      ]
     },
     "execution_count": 110,
     "metadata": {},
     "output_type": "execute_result"
    }
   ],
   "source": [
    "news_df.columns"
   ]
  },
  {
   "cell_type": "code",
   "execution_count": 111,
   "id": "375680d2",
   "metadata": {},
   "outputs": [
    {
     "name": "stdout",
     "output_type": "stream",
     "text": [
      "+-----+\n",
      "|label|\n",
      "+-----+\n",
      "|    1|\n",
      "|    1|\n",
      "|    0|\n",
      "|    0|\n",
      "|    1|\n",
      "|    1|\n",
      "|    1|\n",
      "|    0|\n",
      "|    0|\n",
      "|    0|\n",
      "+-----+\n",
      "only showing top 10 rows\n",
      "\n"
     ]
    }
   ],
   "source": [
    "#show the independent feature of the dataframe\n",
    "\n",
    "news_df.select(\"label\").show(n=10)"
   ]
  },
  {
   "cell_type": "code",
   "execution_count": 112,
   "id": "59e8beb4",
   "metadata": {},
   "outputs": [],
   "source": [
    "# check if the dataset is imbalanced\n",
    "\n",
    "major_df = news_df.filter(col(\"label\") == 1)\n",
    "minor_df = news_df.filter(col(\"label\") == 0)"
   ]
  },
  {
   "cell_type": "code",
   "execution_count": 113,
   "id": "9f48d4e0",
   "metadata": {},
   "outputs": [],
   "source": [
    "ratio = (major_df.count()/minor_df.count())"
   ]
  },
  {
   "cell_type": "code",
   "execution_count": 114,
   "id": "6ed5752f",
   "metadata": {},
   "outputs": [
    {
     "name": "stdout",
     "output_type": "stream",
     "text": [
      "ratio: 1.063522413426811\n"
     ]
    }
   ],
   "source": [
    "# ratio between minority and majority class\n",
    "\n",
    "print(\"ratio: {}\".format(ratio)) "
   ]
  },
  {
   "cell_type": "code",
   "execution_count": 115,
   "id": "ac4a191d",
   "metadata": {},
   "outputs": [
    {
     "name": "stdout",
     "output_type": "stream",
     "text": [
      "Class 1:51.53917430248121 \n"
     ]
    }
   ],
   "source": [
    "# majority class\n",
    "\n",
    "print(f\"Class 1:{major_df.count()/news_df.count() * 100} \")\n"
   ]
  },
  {
   "cell_type": "code",
   "execution_count": 116,
   "id": "4e4262a5",
   "metadata": {},
   "outputs": [
    {
     "name": "stdout",
     "output_type": "stream",
     "text": [
      "Class 0: 48.460825697518786 \n"
     ]
    }
   ],
   "source": [
    "# minority class\n",
    "\n",
    "print(f\"Class 0: {minor_df.count()/news_df.count() * 100} \")\n"
   ]
  },
  {
   "cell_type": "code",
   "execution_count": 117,
   "id": "0c7f4697",
   "metadata": {},
   "outputs": [],
   "source": [
    "# visualize label \n",
    "\n",
    "visualize_label = news_df.select(\"label\").toPandas()"
   ]
  },
  {
   "cell_type": "code",
   "execution_count": 118,
   "id": "4ea01515",
   "metadata": {},
   "outputs": [
    {
     "data": {
      "text/plain": [
       "<AxesSubplot:xlabel='label', ylabel='count'>"
      ]
     },
     "execution_count": 118,
     "metadata": {},
     "output_type": "execute_result"
    },
    {
     "data": {
      "image/png": "[encoded data removed]",
      "text/plain": [
       "<Figure size 432x288 with 1 Axes>"
      ]
     },
     "metadata": {},
     "output_type": "display_data"
    }
   ],
   "source": [
    "sns.set_style('whitegrid')\n",
    "sns.countplot(x='label',data=visualize_label)"
   ]
  },
  {
   "cell_type": "code",
   "execution_count": 119,
   "id": "fb9fc84a",
   "metadata": {},
   "outputs": [
    {
     "name": "stdout",
     "output_type": "stream",
     "text": [
      "The total number of duplicated news are 431 out of 9713\n"
     ]
    }
   ],
   "source": [
    "# Print the number of duplicated news in the dataframe\n",
    "\n",
    "print(\"The total number of duplicated news are {:d} out of {:d}\".\n",
    "      format(news_df.count() - news_df.dropDuplicates(['text']).count(), news_df.count()))"
   ]
  },
  {
   "cell_type": "code",
   "execution_count": 120,
   "id": "fd9a0ea6",
   "metadata": {},
   "outputs": [],
   "source": [
    "# Dropping duplicated news from \"text\" feature\n",
    "\n",
    "news_df = news_df.dropDuplicates([\"text\"])"
   ]
  },
  {
   "cell_type": "code",
   "execution_count": 121,
   "id": "3eead07c",
   "metadata": {},
   "outputs": [
    {
     "name": "stdout",
     "output_type": "stream",
     "text": [
      "The total number of unique news in our dataset is: 9282\n"
     ]
    }
   ],
   "source": [
    "print(\"The total number of unique news in our dataset is: {:d}\".format(news_df.count()))"
   ]
  },
  {
   "cell_type": "markdown",
   "id": "27b1c9ce",
   "metadata": {},
   "source": [
    "### Text Preprocessing phase\n",
    "\n",
    "    1.  Text cleaning \n",
    "    2.  Tokenization \n",
    "    3.  Stopwards removal\n",
    "    4.  Stemming "
   ]
  },
  {
   "cell_type": "code",
   "execution_count": 122,
   "id": "72e57689",
   "metadata": {},
   "outputs": [],
   "source": [
    "from pyspark.sql.functions import udf, col, lower, trim, regexp_replace\n",
    "from pyspark.ml.feature import Tokenizer, StopWordsRemover\n",
    "from nltk.stem.snowball import SnowballStemmer"
   ]
  },
  {
   "cell_type": "code",
   "execution_count": 123,
   "id": "d13fd5cd",
   "metadata": {},
   "outputs": [],
   "source": [
    "def text_preprocessing(df, column_name=\"content\"):\n",
    "   \n",
    "    # Text Cleaning\n",
    "    lower_case_news_df = df.withColumn(column_name, lower(col(column_name)))\n",
    "\n",
    "    # Trimming the text\n",
    "    trimmed_news_df = lower_case_news_df.withColumn(column_name, trim(col(column_name)))\n",
    "\n",
    "    # Filtering out punctuations in the text\n",
    "    no_punct_news_df = trimmed_news_df.withColumn(column_name, (regexp_replace(col(column_name), \"[^a-zA-Z\\\\s]\", \"\")))\n",
    "\n",
    "    # Removing any extra whitespaces\n",
    "    cleaned_news_df = no_punct_news_df.withColumn(column_name, trim(regexp_replace(col(column_name), \" +\", \" \")))\n",
    "\n",
    "    # Splitting text into tokens\n",
    "    tokenizer = Tokenizer(inputCol=column_name, outputCol=\"tokens\")\n",
    "    tokens_df = tokenizer.transform(cleaned_news_df)\n",
    "\n",
    "    # Removing Stopwords\n",
    "    stopwords_remover = StopWordsRemover(inputCol=\"tokens\", outputCol=\"terms\")\n",
    "    terms_df = stopwords_remover.transform(tokens_df)\n",
    "   \n",
    "    # Stemming words\n",
    "    stemmer = SnowballStemmer(language=\"english\")\n",
    "    stemmer_udf = udf(lambda tokens: [stemmer.stem(token) for token in tokens], ArrayType(StringType()))\n",
    "    terms_stemmed_df = terms_df.withColumn(\"terms_stemmed\", stemmer_udf(\"terms\"))    \n",
    "    \n",
    "    return terms_stemmed_df"
   ]
  },
  {
   "cell_type": "code",
   "execution_count": 124,
   "id": "76a61830",
   "metadata": {},
   "outputs": [
    {
     "data": {
      "text/plain": [
       "pyspark.sql.dataframe.DataFrame"
      ]
     },
     "execution_count": 124,
     "metadata": {},
     "output_type": "execute_result"
    }
   ],
   "source": [
    "# Checking the type of our dataset\n",
    "\n",
    "type(news_df)"
   ]
  },
  {
   "cell_type": "code",
   "execution_count": 125,
   "id": "b73735ee",
   "metadata": {},
   "outputs": [],
   "source": [
    "# Calling our text pre-processing function in order to apply it to the dataframe\n",
    "\n",
    "transform_df = text_preprocessing(news_df, \"text\")"
   ]
  },
  {
   "cell_type": "code",
   "execution_count": 126,
   "id": "9840b91d",
   "metadata": {
    "scrolled": false
   },
   "outputs": [
    {
     "name": "stdout",
     "output_type": "stream",
     "text": [
      "+--------------------+-----+--------------------+--------------------+--------------------+\n",
      "|                text|label|              tokens|               terms|       terms_stemmed|\n",
      "+--------------------+-----+--------------------+--------------------+--------------------+\n",
      "|first lady melani...|    1|[first, lady, mel...|[first, lady, mel...|[first, ladi, mel...|\n",
      "|donald trump is t...|    1|[donald, trump, i...|[donald, trump, t...|[donald, trump, t...|\n",
      "|geneva reuters th...|    0|[geneva, reuters,...|[geneva, reuters,...|[geneva, reuter, ...|\n",
      "|warsaw reuters po...|    0|[warsaw, reuters,...|[warsaw, reuters,...|[warsaw, reuter, ...|\n",
      "|watch susan rice ...|    1|[watch, susan, ri...|[watch, susan, ri...|[watch, susan, ri...|\n",
      "|can we just stop ...|    1|[can, we, just, s...|[stop, allowing, ...|[stop, allow, mus...|\n",
      "|the entire nation...|    1|[the, entire, nat...|[entire, nation, ...|[entir, nation, w...|\n",
      "|geneva reuters th...|    0|[geneva, reuters,...|[geneva, reuters,...|[geneva, reuter, ...|\n",
      "|washington reuter...|    0|[washington, reut...|[washington, reut...|[washington, reut...|\n",
      "|moscow reuters th...|    0|[moscow, reuters,...|[moscow, reuters,...|[moscow, reuter, ...|\n",
      "+--------------------+-----+--------------------+--------------------+--------------------+\n",
      "only showing top 10 rows\n",
      "\n"
     ]
    }
   ],
   "source": [
    "# Showing the transformations of the df after calling the above function\n",
    "\n",
    "transform_df.show(n=10)"
   ]
  },
  {
   "cell_type": "markdown",
   "id": "10866d80",
   "metadata": {},
   "source": [
    "### Feature Engineering Phase\n"
   ]
  },
  {
   "cell_type": "code",
   "execution_count": 127,
   "id": "cb0824a4",
   "metadata": {},
   "outputs": [],
   "source": [
    "from pyspark.ml.feature import CountVectorizer, IDF\n",
    "from pyspark.ml import Pipeline"
   ]
  },
  {
   "cell_type": "code",
   "execution_count": 128,
   "id": "4d9e68d9",
   "metadata": {},
   "outputs": [
    {
     "data": {
      "text/plain": [
       "['text', 'label', 'tokens', 'terms', 'terms_stemmed']"
      ]
     },
     "execution_count": 128,
     "metadata": {},
     "output_type": "execute_result"
    }
   ],
   "source": [
    "transform_df.columns"
   ]
  },
  {
   "cell_type": "code",
   "execution_count": 129,
   "id": "0fe64948",
   "metadata": {},
   "outputs": [],
   "source": [
    "from pyspark.sql.functions import size\n",
    "\n",
    "count_df = transform_df.select('*',size('terms_stemmed').alias('length'))"
   ]
  },
  {
   "cell_type": "code",
   "execution_count": 130,
   "id": "0c4d3803",
   "metadata": {},
   "outputs": [
    {
     "name": "stdout",
     "output_type": "stream",
     "text": [
      "+--------------------+-----+--------------------+--------------------+--------------------+------+\n",
      "|                text|label|              tokens|               terms|       terms_stemmed|length|\n",
      "+--------------------+-----+--------------------+--------------------+--------------------+------+\n",
      "|first lady melani...|    1|[first, lady, mel...|[first, lady, mel...|[first, ladi, mel...|   101|\n",
      "|donald trump is t...|    1|[donald, trump, i...|[donald, trump, t...|[donald, trump, t...|   182|\n",
      "|geneva reuters th...|    0|[geneva, reuters,...|[geneva, reuters,...|[geneva, reuter, ...|    72|\n",
      "|warsaw reuters po...|    0|[warsaw, reuters,...|[warsaw, reuters,...|[warsaw, reuter, ...|    55|\n",
      "|watch susan rice ...|    1|[watch, susan, ri...|[watch, susan, ri...|[watch, susan, ri...|   110|\n",
      "|can we just stop ...|    1|[can, we, just, s...|[stop, allowing, ...|[stop, allow, mus...|   290|\n",
      "|the entire nation...|    1|[the, entire, nat...|[entire, nation, ...|[entir, nation, w...|   206|\n",
      "|geneva reuters th...|    0|[geneva, reuters,...|[geneva, reuters,...|[geneva, reuter, ...|   135|\n",
      "|washington reuter...|    0|[washington, reut...|[washington, reut...|[washington, reut...|    75|\n",
      "|moscow reuters th...|    0|[moscow, reuters,...|[moscow, reuters,...|[moscow, reuter, ...|    31|\n",
      "|berlin reuters gr...|    0|[berlin, reuters,...|[berlin, reuters,...|[berlin, reuter, ...|   143|\n",
      "|today the fcc vot...|    1|[today, the, fcc,...|[today, fcc, vote...|[today, fcc, vote...|   513|\n",
      "|tokyoseoul reuter...|    0|[tokyoseoul, reut...|[tokyoseoul, reut...|[tokyoseoul, reut...|   498|\n",
      "|luxembourgbrussel...|    0|[luxembourgbrusse...|[luxembourgbrusse...|[luxembourgbrusse...|   342|\n",
      "|abujadakar reuter...|    0|[abujadakar, reut...|[abujadakar, reut...|[abujadakar, reut...|   442|\n",
      "|this is the same ...|    1|[this, is, the, s...|[muslim, mayor, r...|[muslim, mayor, r...|   127|\n",
      "|president barack ...|    1|[president, barac...|[president, barac...|[presid, barack, ...|    84|\n",
      "|the russians may ...|    1|[the, russians, m...|[russians, may, h...|[russian, may, ha...|   276|\n",
      "|washington reuter...|    0|[washington, reut...|[washington, reut...|[washington, reut...|   576|\n",
      "|new york reuters ...|    0|[new, york, reute...|[new, york, reute...|[new, york, reute...|   448|\n",
      "+--------------------+-----+--------------------+--------------------+--------------------+------+\n",
      "only showing top 20 rows\n",
      "\n"
     ]
    }
   ],
   "source": [
    "count_df.show()"
   ]
  },
  {
   "cell_type": "code",
   "execution_count": 131,
   "id": "c93513af",
   "metadata": {},
   "outputs": [],
   "source": [
    "# convert to pandas to visualize the length of the documents\n",
    "\n",
    "visualize_len = count_df.select(\"length\").toPandas()"
   ]
  },
  {
   "cell_type": "code",
   "execution_count": 132,
   "id": "d14059e1",
   "metadata": {},
   "outputs": [
    {
     "data": {
      "text/plain": [
       "Text(0, 0.5, 'Frequency')"
      ]
     },
     "execution_count": 132,
     "metadata": {},
     "output_type": "execute_result"
    },
    {
     "data": {
      "image/png": "[encoded data removed]",
      "text/plain": [
       "<Figure size 432x288 with 1 Axes>"
      ]
     },
     "metadata": {},
     "output_type": "display_data"
    }
   ],
   "source": [
    "# histogram \n",
    "\n",
    "plt.xlim([0,1000])\n",
    "plt.hist(visualize_len, bins=20)\n",
    "plt.xlabel(\"Number of tokens\")\n",
    "plt.ylabel(\"Frequency\")"
   ]
  },
  {
   "cell_type": "markdown",
   "id": "5d86b87a",
   "metadata": {},
   "source": [
    "#### Application of Bag of Words and TF-IDF"
   ]
  },
  {
   "cell_type": "code",
   "execution_count": 133,
   "id": "4e238a92",
   "metadata": {},
   "outputs": [],
   "source": [
    "def feature_extraction(df, column_name=\"terms_stemmed\"):   \n",
    "    \n",
    "    cv = CountVectorizer(inputCol=column_name, outputCol=\"count_vectorizer\", vocabSize=100, minDF=5)\n",
    "    tf = IDF(inputCol=\"count_vectorizer\", outputCol=\"tf_features\")\n",
    "    \n",
    "    pipeline = Pipeline(stages=[cv,tf])\n",
    "    features = pipeline.fit(df)\n",
    "    tf_idf = features.transform(df)\n",
    "    \n",
    "    return tf_idf"
   ]
  },
  {
   "cell_type": "code",
   "execution_count": 134,
   "id": "e3536071",
   "metadata": {},
   "outputs": [],
   "source": [
    "features_tf_df = feature_extraction(transform_df)"
   ]
  },
  {
   "cell_type": "code",
   "execution_count": 135,
   "id": "e0feed56",
   "metadata": {},
   "outputs": [
    {
     "name": "stdout",
     "output_type": "stream",
     "text": [
      "+--------------------+-----+--------------------+--------------------+--------------------+--------------------+--------------------+\n",
      "|                text|label|              tokens|               terms|       terms_stemmed|    count_vectorizer|         tf_features|\n",
      "+--------------------+-----+--------------------+--------------------+--------------------+--------------------+--------------------+\n",
      "|first lady melani...|    1|[first, lady, mel...|[first, lady, mel...|[first, ladi, mel...|(100,[0,1,4,10,15...|(100,[0,1,4,10,15...|\n",
      "|donald trump is t...|    1|[donald, trump, i...|[donald, trump, t...|[donald, trump, t...|(100,[1,5,7,8,10,...|(100,[1,5,7,8,10,...|\n",
      "|geneva reuters th...|    0|[geneva, reuters,...|[geneva, reuters,...|[geneva, reuter, ...|(100,[0,13,26,27,...|(100,[0,13,26,27,...|\n",
      "|warsaw reuters po...|    0|[warsaw, reuters,...|[warsaw, reuters,...|[warsaw, reuter, ...|(100,[0,5,9,11,12...|(100,[0,5,9,11,12...|\n",
      "|watch susan rice ...|    1|[watch, susan, ri...|[watch, susan, ri...|[watch, susan, ri...|(100,[0,1,4,8,11,...|(100,[0,1,4,8,11,...|\n",
      "|can we just stop ...|    1|[can, we, just, s...|[stop, allowing, ...|[stop, allow, mus...|(100,[2,3,7,9,14,...|(100,[2,3,7,9,14,...|\n",
      "|the entire nation...|    1|[the, entire, nat...|[entire, nation, ...|[entir, nation, w...|(100,[1,3,4,7,8,9...|(100,[1,3,4,7,8,9...|\n",
      "|geneva reuters th...|    0|[geneva, reuters,...|[geneva, reuters,...|[geneva, reuter, ...|(100,[0,3,8,10,12...|(100,[0,3,8,10,12...|\n",
      "|washington reuter...|    0|[washington, reut...|[washington, reut...|[washington, reut...|(100,[0,2,6,13,16...|(100,[0,2,6,13,16...|\n",
      "|moscow reuters th...|    0|[moscow, reuters,...|[moscow, reuters,...|[moscow, reuter, ...|(100,[0,2,3,10,13...|(100,[0,2,3,10,13...|\n",
      "+--------------------+-----+--------------------+--------------------+--------------------+--------------------+--------------------+\n",
      "only showing top 10 rows\n",
      "\n"
     ]
    }
   ],
   "source": [
    "# show the first 10 columns \n",
    "\n",
    "features_tf_df.show(10)"
   ]
  },
  {
   "cell_type": "code",
   "execution_count": 136,
   "id": "1f6b046e",
   "metadata": {},
   "outputs": [
    {
     "name": "stdout",
     "output_type": "stream",
     "text": [
      "+--------------------+--------------------+\n",
      "|    count_vectorizer|         tf_features|\n",
      "+--------------------+--------------------+\n",
      "|(100,[0,1,4,10,15...|(100,[0,1,4,10,15...|\n",
      "|(100,[1,5,7,8,10,...|(100,[1,5,7,8,10,...|\n",
      "|(100,[0,13,26,27,...|(100,[0,13,26,27,...|\n",
      "|(100,[0,5,9,11,12...|(100,[0,5,9,11,12...|\n",
      "|(100,[0,1,4,8,11,...|(100,[0,1,4,8,11,...|\n",
      "|(100,[2,3,7,9,14,...|(100,[2,3,7,9,14,...|\n",
      "|(100,[1,3,4,7,8,9...|(100,[1,3,4,7,8,9...|\n",
      "|(100,[0,3,8,10,12...|(100,[0,3,8,10,12...|\n",
      "|(100,[0,2,6,13,16...|(100,[0,2,6,13,16...|\n",
      "|(100,[0,2,3,10,13...|(100,[0,2,3,10,13...|\n",
      "+--------------------+--------------------+\n",
      "only showing top 10 rows\n",
      "\n"
     ]
    }
   ],
   "source": [
    "# display only the two last columns of the df\n",
    "\n",
    "features_tf_df.select(\"count_vectorizer\",\"tf_features\").show(n=10)\n"
   ]
  },
  {
   "cell_type": "markdown",
   "id": "4501a9bf",
   "metadata": {},
   "source": [
    "###  Model Training Phase"
   ]
  },
  {
   "cell_type": "code",
   "execution_count": 137,
   "id": "529130ca",
   "metadata": {},
   "outputs": [],
   "source": [
    "from pyspark.ml.evaluation import BinaryClassificationEvaluator \n",
    "from pyspark.ml.tuning import CrossValidator, ParamGridBuilder\n",
    "from pyspark.mllib.evaluation import BinaryClassificationMetrics\n"
   ]
  },
  {
   "cell_type": "markdown",
   "id": "c0dab470",
   "metadata": {},
   "source": [
    "#### Splitting the dataset into 2 parts, train and testing 80% and 20% respectively.\n"
   ]
  },
  {
   "cell_type": "code",
   "execution_count": 138,
   "id": "f36055ea",
   "metadata": {},
   "outputs": [],
   "source": [
    "train_split_df, test_split_df = features_tf_df.randomSplit([0.8,0.2])\n"
   ]
  },
  {
   "cell_type": "code",
   "execution_count": 139,
   "id": "eefbae92",
   "metadata": {},
   "outputs": [
    {
     "data": {
      "text/plain": [
       "1883"
      ]
     },
     "execution_count": 139,
     "metadata": {},
     "output_type": "execute_result"
    }
   ],
   "source": [
    "test_split_df.count()"
   ]
  },
  {
   "cell_type": "code",
   "execution_count": 140,
   "id": "c74bdaab",
   "metadata": {},
   "outputs": [
    {
     "data": {
      "text/plain": [
       "7399"
      ]
     },
     "execution_count": 140,
     "metadata": {},
     "output_type": "execute_result"
    }
   ],
   "source": [
    "train_split_df.count()"
   ]
  },
  {
   "cell_type": "code",
   "execution_count": 141,
   "id": "d5a625da",
   "metadata": {},
   "outputs": [
    {
     "data": {
      "text/plain": [
       "['text',\n",
       " 'label',\n",
       " 'tokens',\n",
       " 'terms',\n",
       " 'terms_stemmed',\n",
       " 'count_vectorizer',\n",
       " 'tf_features']"
      ]
     },
     "execution_count": 141,
     "metadata": {},
     "output_type": "execute_result"
    }
   ],
   "source": [
    "test_split_df.columns"
   ]
  },
  {
   "cell_type": "markdown",
   "id": "aeae95c8",
   "metadata": {},
   "source": [
    "#### Free some space in RAM"
   ]
  },
  {
   "cell_type": "code",
   "execution_count": 142,
   "id": "aec18426",
   "metadata": {},
   "outputs": [
    {
     "name": "stdout",
     "output_type": "stream",
     "text": [
      "Garbage collector: collected 215 objects\n"
     ]
    }
   ],
   "source": [
    "import gc\n",
    "\n",
    "test_split_df = test_split_df.drop(\"tokens\", \"terms\", \"terms_stemmed\", \"count_vectorizer\", \"text\")\n",
    "\n",
    "print(\"Garbage collector: collected %d objects\" % (gc.collect()))"
   ]
  },
  {
   "cell_type": "code",
   "execution_count": 143,
   "id": "7e983fb9",
   "metadata": {},
   "outputs": [
    {
     "name": "stdout",
     "output_type": "stream",
     "text": [
      "Garbage collector: collected 41 objects\n"
     ]
    }
   ],
   "source": [
    "train_split_df = train_split_df.drop(\"tokens\", \"terms\", \"terms_stemmed\", \"count_vectorizer\", \"text\")\n",
    "\n",
    "print(\"Garbage collector: collected %d objects\" % (gc.collect()))\n"
   ]
  },
  {
   "cell_type": "code",
   "execution_count": 144,
   "id": "b40f23b9",
   "metadata": {},
   "outputs": [
    {
     "data": {
      "text/plain": [
       "['label', 'tf_features']"
      ]
     },
     "execution_count": 144,
     "metadata": {},
     "output_type": "execute_result"
    }
   ],
   "source": [
    "test_split_df.columns"
   ]
  },
  {
   "cell_type": "code",
   "execution_count": 145,
   "id": "52540445",
   "metadata": {},
   "outputs": [
    {
     "data": {
      "text/plain": [
       "['label', 'tf_features']"
      ]
     },
     "execution_count": 145,
     "metadata": {},
     "output_type": "execute_result"
    }
   ],
   "source": [
    "train_split_df.columns"
   ]
  },
  {
   "cell_type": "markdown",
   "id": "36d33854",
   "metadata": {},
   "source": [
    "### Model  Functions / Automatization"
   ]
  },
  {
   "cell_type": "markdown",
   "id": "85590b2b",
   "metadata": {},
   "source": [
    "#### Perform Cross-Validation "
   ]
  },
  {
   "cell_type": "code",
   "execution_count": 146,
   "id": "d7929de7",
   "metadata": {},
   "outputs": [],
   "source": [
    "def cross_valid(df, estimator, num_folds, param_name, param_values, evaluator):\n",
    "    \n",
    "    # ParamMap(s) — the list of parameters we want to evaluate to find the best model\n",
    "\n",
    "    param_grid = ParamGridBuilder().baseOn({estimator.labelCol: 'label'}).baseOn([estimator.predictionCol, 'prediction'])\n",
    "    \n",
    "    for i in range(0, len(param_name)):\n",
    "        param_grid = param_grid.addGrid(param_name[i], param_values[i])\n",
    "        \n",
    "    param_grid = param_grid.build()\n",
    "    \n",
    "    cv = CrossValidator(estimator=estimator,\n",
    "                           estimatorParamMaps=param_grid,\n",
    "                           evaluator= evaluator,\n",
    "                           numFolds=num_folds, \n",
    "                           parallelism=2)\n",
    "    \n",
    "    training_model = cv.fit(df)\n",
    "                                    \n",
    "    \n",
    "    return training_model\n",
    "    "
   ]
  },
  {
   "cell_type": "markdown",
   "id": "e2c75a17",
   "metadata": {},
   "source": [
    "#### Function for Visualisation of ROC Curve"
   ]
  },
  {
   "cell_type": "code",
   "execution_count": 147,
   "id": "5d5f9dc9",
   "metadata": {},
   "outputs": [],
   "source": [
    "from pyspark.mllib.evaluation import BinaryClassificationMetrics\n",
    "\n",
    "class CurveMetrics(BinaryClassificationMetrics):\n",
    "    def __init__(self, *args):\n",
    "        super(CurveMetrics, self).__init__(*args)\n",
    "\n",
    "    def _to_list(self, rdd):\n",
    "        points = []\n",
    "        \n",
    "        for row in rdd.collect():\n",
    "            points += [(float(row._1()), float(row._2()))]\n",
    "        return points\n",
    "\n",
    "    def get_curve(self, method):\n",
    "        rdd = getattr(self._java_model, method)().toJavaRDD()\n",
    "        return self._to_list(rdd)"
   ]
  },
  {
   "cell_type": "markdown",
   "id": "75ddb818",
   "metadata": {},
   "source": [
    "### Evaluate performance on train/test data - Visualisation\n",
    "#### Automatization function"
   ]
  },
  {
   "cell_type": "code",
   "execution_count": 148,
   "id": "92eb152e",
   "metadata": {},
   "outputs": [],
   "source": [
    "from pyspark.mllib.evaluation import MulticlassMetrics\n",
    "\n",
    "def evaluate_performance(df, model):  \n",
    "    \n",
    "    best_model = model.bestModel\n",
    "    \n",
    "    # generate predictions\n",
    "    label_predictions = best_model.transform(df)\n",
    "    \n",
    "    # convert from int to double - the method requirement\n",
    "    label_predictions =  label_predictions.withColumn(\"label\", label_predictions.label.cast('double'))\n",
    "    label_predictions =  label_predictions.withColumn(\"prediction\", label_predictions.prediction.cast('double'))\n",
    "\n",
    "    metrics = MulticlassMetrics(label_predictions.select('prediction', 'label').rdd)\n",
    "    print(metrics.confusionMatrix().toArray())\n",
    "        \n",
    "    print(\"Accuracy : \", metrics.accuracy)\n",
    "    print(\"F1-score for class 0: \", metrics.fMeasure(0.0))\n",
    "    print(\"F1-score for class 1: \", metrics.fMeasure(1.0))   \n",
    "    \n",
    "    evaluater = BinaryClassificationEvaluator(labelCol=\"label\", metricName='areaUnderROC')\n",
    "    print(\"AreaUnderROC: \", evaluater.evaluate(label_predictions))\n",
    "    \n",
    "    pred = label_predictions.select('label','probability').rdd.map(lambda row: (float(row['probability'][1]), float(row['label'])))\n",
    "    points = CurveMetrics(pred).get_curve('roc')\n",
    "\n",
    "    plt.figure()\n",
    "    x_val = [x[0] for x in points]\n",
    "    y_val = [x[1] for x in points]\n",
    "    plt.title('ROC Curve')\n",
    "    plt.xlabel('False Positive Rate')\n",
    "    plt.ylabel('True Positive Rate')\n",
    "    plt.plot(x_val, y_val)\n"
   ]
  },
  {
   "cell_type": "markdown",
   "id": "51a1a87f",
   "metadata": {},
   "source": [
    "## Logistic Regression"
   ]
  },
  {
   "cell_type": "code",
   "execution_count": 149,
   "id": "bb35bd31",
   "metadata": {},
   "outputs": [],
   "source": [
    "from pyspark.ml.classification import LogisticRegression\n",
    "from pyspark.mllib.evaluation import MulticlassMetrics"
   ]
  },
  {
   "cell_type": "code",
   "execution_count": 150,
   "id": "e58ca960",
   "metadata": {},
   "outputs": [
    {
     "data": {
      "text/plain": [
       "['label', 'tf_features']"
      ]
     },
     "execution_count": 150,
     "metadata": {},
     "output_type": "execute_result"
    }
   ],
   "source": [
    "train_split_df.columns"
   ]
  },
  {
   "cell_type": "markdown",
   "id": "6fa9ec47",
   "metadata": {},
   "source": [
    "#### Setup Logistic regression "
   ]
  },
  {
   "cell_type": "code",
   "execution_count": 151,
   "id": "1344ce6d",
   "metadata": {},
   "outputs": [],
   "source": [
    "log_reg = LogisticRegression(featuresCol=\"tf_features\", labelCol='label')"
   ]
  },
  {
   "cell_type": "code",
   "execution_count": 152,
   "id": "8593a93f",
   "metadata": {},
   "outputs": [],
   "source": [
    "param_names = [log_reg.regParam, log_reg.maxIter]\n",
    "param_values = [[0.1, 0.01], [90, 110]]\n",
    "\n",
    "ev = BinaryClassificationEvaluator(labelCol=\"label\", rawPredictionCol=\"prediction\")\n",
    "log_reg_cv = cross_valid(df=train_split_df ,estimator=log_reg, num_folds=5, param_name=param_names, param_values=param_values,evaluator=ev)"
   ]
  },
  {
   "cell_type": "code",
   "execution_count": 153,
   "id": "1a9e8de8",
   "metadata": {},
   "outputs": [
    {
     "data": {
      "text/plain": [
       "CrossValidatorModel_7fc018c762ce"
      ]
     },
     "execution_count": 153,
     "metadata": {},
     "output_type": "execute_result"
    }
   ],
   "source": [
    "log_reg_cv"
   ]
  },
  {
   "cell_type": "markdown",
   "id": "2378a4de",
   "metadata": {},
   "source": [
    "### Save Logistic Regression Model"
   ]
  },
  {
   "cell_type": "code",
   "execution_count": 154,
   "id": "26423647",
   "metadata": {},
   "outputs": [],
   "source": [
    "log_reg_cv.bestModel.save(\"LogisticRegression\")"
   ]
  },
  {
   "cell_type": "markdown",
   "id": "2a07c448",
   "metadata": {},
   "source": [
    "#### Evaluate performance on Test Set"
   ]
  },
  {
   "cell_type": "code",
   "execution_count": 155,
   "id": "60ad7712",
   "metadata": {},
   "outputs": [
    {
     "name": "stderr",
     "output_type": "stream",
     "text": [
      "C:\\Users\\User\\anaconda3\\lib\\site-packages\\pyspark\\sql\\context.py:125: FutureWarning: Deprecated in 3.0.0. Use SparkSession.builder.getOrCreate() instead.\n",
      "  warnings.warn(\n"
     ]
    },
    {
     "name": "stdout",
     "output_type": "stream",
     "text": [
      "[[947.  15.]\n",
      " [  7. 914.]]\n",
      "Accuracy :  0.9883165161975571\n",
      "F1-score for class 0:  0.988517745302714\n",
      "F1-score for class 1:  0.9881081081081081\n",
      "AreaUnderROC:  0.9967889463003526\n"
     ]
    },
    {
     "data": {
      "image/png": "[encoded data removed]",
      "text/plain": [
       "<Figure size 432x288 with 1 Axes>"
      ]
     },
     "metadata": {},
     "output_type": "display_data"
    }
   ],
   "source": [
    "evaluate_performance_lr_testSet = evaluate_performance(df=test_split_df.limit(1905), model=log_reg_cv)"
   ]
  },
  {
   "cell_type": "markdown",
   "id": "a89c2442",
   "metadata": {},
   "source": [
    "#### Evaluate performance on Train Set"
   ]
  },
  {
   "cell_type": "code",
   "execution_count": 156,
   "id": "3e93908c",
   "metadata": {},
   "outputs": [
    {
     "name": "stdout",
     "output_type": "stream",
     "text": [
      "[[3692.   31.]\n",
      " [  41. 3635.]]\n",
      "Accuracy :  0.9902689552642249\n",
      "F1-score for class 0:  0.990343347639485\n",
      "F1-score for class 1:  0.9901934077907927\n",
      "AreaUnderROC:  0.9971055655854548\n"
     ]
    },
    {
     "data": {
      "image/png": "[encoded data removed]",
      "text/plain": [
       "<Figure size 432x288 with 1 Axes>"
      ]
     },
     "metadata": {},
     "output_type": "display_data"
    }
   ],
   "source": [
    "evaluate_performance_lr_trainSet = evaluate_performance(df=train_split_df.limit(train_split_df.count()), model=log_reg_cv)"
   ]
  },
  {
   "cell_type": "markdown",
   "id": "fbe925d8",
   "metadata": {},
   "source": [
    "#### Best tuned Hyper parameters"
   ]
  },
  {
   "cell_type": "code",
   "execution_count": 157,
   "id": "f0093fc8",
   "metadata": {},
   "outputs": [],
   "source": [
    "best_regParam = log_reg_cv.bestModel._java_obj.getRegParam()\n",
    "best_maxIter = log_reg_cv.bestModel._java_obj.getMaxIter()"
   ]
  },
  {
   "cell_type": "code",
   "execution_count": 158,
   "id": "23010ddd",
   "metadata": {},
   "outputs": [
    {
     "name": "stdout",
     "output_type": "stream",
     "text": [
      "Best iteration value:  90\n",
      "Best regularization parameter value:  0.01\n"
     ]
    }
   ],
   "source": [
    "print(\"Best iteration value: \", best_maxIter)\n",
    "print(\"Best regularization parameter value: \", best_regParam)"
   ]
  },
  {
   "cell_type": "markdown",
   "id": "a54ddf53",
   "metadata": {},
   "source": [
    "## Random Forest Classifier"
   ]
  },
  {
   "cell_type": "code",
   "execution_count": 159,
   "id": "6ed4b6fb",
   "metadata": {},
   "outputs": [],
   "source": [
    "from pyspark.ml.classification import RandomForestClassifier"
   ]
  },
  {
   "cell_type": "markdown",
   "id": "b4a80a58",
   "metadata": {},
   "source": [
    "#### Setup Random Forest\n"
   ]
  },
  {
   "cell_type": "code",
   "execution_count": 160,
   "id": "0abdebb2",
   "metadata": {},
   "outputs": [],
   "source": [
    "rf = RandomForestClassifier(featuresCol=\"tf_features\", labelCol='label')"
   ]
  },
  {
   "cell_type": "code",
   "execution_count": 161,
   "id": "acd0d1f0",
   "metadata": {},
   "outputs": [],
   "source": [
    "param_names = [rf.maxDepth, rf.numTrees]\n",
    "param_values = [[3, 6], [200, 300]]\n",
    "\n",
    "ev = BinaryClassificationEvaluator(labelCol=\"label\", rawPredictionCol=\"prediction\")\n",
    "cv_rf = cross_valid(df=train_split_df ,estimator=rf, num_folds=5, param_name=param_names, param_values=param_values,evaluator=ev)"
   ]
  },
  {
   "cell_type": "markdown",
   "id": "83e072c5",
   "metadata": {},
   "source": [
    "###  Save Random Forest Model"
   ]
  },
  {
   "cell_type": "code",
   "execution_count": 162,
   "id": "999289bb",
   "metadata": {},
   "outputs": [],
   "source": [
    "cv_rf.bestModel.save(\"RandomForest\")"
   ]
  },
  {
   "cell_type": "markdown",
   "id": "f40390d7",
   "metadata": {},
   "source": [
    "#### Evaluate performance on Test Set"
   ]
  },
  {
   "cell_type": "code",
   "execution_count": 163,
   "id": "3b617e74",
   "metadata": {},
   "outputs": [
    {
     "name": "stdout",
     "output_type": "stream",
     "text": [
      "[[954.   8.]\n",
      " [  5. 916.]]\n",
      "Accuracy :  0.9930961232076474\n",
      "F1-score for class 0:  0.9932326913066111\n",
      "F1-score for class 1:  0.9929539295392953\n",
      "AreaUnderROC:  0.9987663684732095\n"
     ]
    },
    {
     "data": {
      "image/png": "[encoded data removed]",
      "text/plain": [
       "<Figure size 432x288 with 1 Axes>"
      ]
     },
     "metadata": {},
     "output_type": "display_data"
    }
   ],
   "source": [
    "evaluate_performance_rf_testSet = evaluate_performance(df=test_split_df.limit(test_split_df.count()), model=cv_rf)"
   ]
  },
  {
   "cell_type": "markdown",
   "id": "39b82a1d",
   "metadata": {},
   "source": [
    "#### Evaluate performance on Train Set"
   ]
  },
  {
   "cell_type": "code",
   "execution_count": 164,
   "id": "d98f71cb",
   "metadata": {},
   "outputs": [
    {
     "name": "stdout",
     "output_type": "stream",
     "text": [
      "[[3705.   18.]\n",
      " [  25. 3651.]]\n",
      "Accuracy :  0.9941884038383565\n",
      "F1-score for class 0:  0.9942305112035422\n",
      "F1-score for class 1:  0.9941456773315182\n",
      "AreaUnderROC:  0.9983505468608693\n"
     ]
    },
    {
     "data": {
      "image/png": "[encoded data removed]",
      "text/plain": [
       "<Figure size 432x288 with 1 Axes>"
      ]
     },
     "metadata": {},
     "output_type": "display_data"
    }
   ],
   "source": [
    "evaluate_performance_rf_trainSet = evaluate_performance(df=train_split_df.limit(train_split_df.count()), model=cv_rf)"
   ]
  },
  {
   "cell_type": "markdown",
   "id": "1e56af92",
   "metadata": {},
   "source": [
    "#### Best tuned Hyper parameters"
   ]
  },
  {
   "cell_type": "code",
   "execution_count": 165,
   "id": "cfa0c84d",
   "metadata": {},
   "outputs": [],
   "source": [
    "best_maxDepth = cv_rf.bestModel._java_obj.getMaxDepth()\n",
    "best_numTrees = cv_rf.bestModel._java_obj.getNumTrees()"
   ]
  },
  {
   "cell_type": "code",
   "execution_count": 166,
   "id": "dbfe8381",
   "metadata": {},
   "outputs": [
    {
     "name": "stdout",
     "output_type": "stream",
     "text": [
      "Best max depth value:  6\n",
      "Best numberof trees :  200\n"
     ]
    }
   ],
   "source": [
    "print(\"Best max depth value: \", best_maxDepth)\n",
    "print(\"Best numberof trees : \", best_numTrees)"
   ]
  },
  {
   "cell_type": "markdown",
   "id": "00be1117",
   "metadata": {},
   "source": [
    "## Multilayer Perceptron Model"
   ]
  },
  {
   "cell_type": "code",
   "execution_count": 167,
   "id": "3faf9cff",
   "metadata": {},
   "outputs": [],
   "source": [
    "from pyspark.ml.classification import MultilayerPerceptronClassifier"
   ]
  },
  {
   "cell_type": "markdown",
   "id": "487512d5",
   "metadata": {},
   "source": [
    "#### Setup Multilayer Perceptron\n"
   ]
  },
  {
   "cell_type": "code",
   "execution_count": 168,
   "id": "7e4d1ca2",
   "metadata": {},
   "outputs": [],
   "source": [
    "mlp = MultilayerPerceptronClassifier(labelCol=\"label\", predictionCol=\"prediction\", featuresCol=\"tf_features\")"
   ]
  },
  {
   "cell_type": "code",
   "execution_count": 169,
   "id": "5a6bb751",
   "metadata": {},
   "outputs": [],
   "source": [
    "param_names = [mlp.layers, mlp.stepSize]\n",
    "param_values = [[[100, 5, 2], [100, 2, 2]], [0.01, 0.1]]\n",
    "\n",
    "ev = BinaryClassificationEvaluator(labelCol=\"label\", rawPredictionCol=\"prediction\")\n",
    "mlp_cv = cross_valid(df=train_split_df ,estimator=mlp, num_folds=5, param_name=param_names, param_values=param_values,evaluator=ev)"
   ]
  },
  {
   "cell_type": "code",
   "execution_count": 170,
   "id": "8a5ee4c2",
   "metadata": {},
   "outputs": [
    {
     "data": {
      "text/plain": [
       "CrossValidatorModel_ef43bf1b3c03"
      ]
     },
     "execution_count": 170,
     "metadata": {},
     "output_type": "execute_result"
    }
   ],
   "source": [
    "mlp_cv"
   ]
  },
  {
   "cell_type": "markdown",
   "id": "1544ddea",
   "metadata": {},
   "source": [
    "### Save Multilayer Perceptron Model"
   ]
  },
  {
   "cell_type": "code",
   "execution_count": 171,
   "id": "10746b79",
   "metadata": {},
   "outputs": [],
   "source": [
    "mlp_cv.bestModel.save(\"MultiLayerPerceptron\")"
   ]
  },
  {
   "cell_type": "markdown",
   "id": "429b1b62",
   "metadata": {},
   "source": [
    "#### Evaluate performance on Test Set"
   ]
  },
  {
   "cell_type": "code",
   "execution_count": 172,
   "id": "6ff0045b",
   "metadata": {},
   "outputs": [
    {
     "name": "stdout",
     "output_type": "stream",
     "text": [
      "[[942.  20.]\n",
      " [ 11. 910.]]\n",
      "Accuracy :  0.9835369091874668\n",
      "F1-score for class 0:  0.9838120104438641\n",
      "F1-score for class 1:  0.9832522960561858\n",
      "AreaUnderROC:  0.997176078609303\n"
     ]
    },
    {
     "data": {
      "image/png": "[encoded data removed]",
      "text/plain": [
       "<Figure size 432x288 with 1 Axes>"
      ]
     },
     "metadata": {},
     "output_type": "display_data"
    }
   ],
   "source": [
    "evaluate_performance_mlp_testSet = evaluate_performance(df=test_split_df.limit(test_split_df.count()), model=mlp_cv)"
   ]
  },
  {
   "cell_type": "markdown",
   "id": "ccd36622",
   "metadata": {},
   "source": [
    "#### Evaluate performance on Train Set"
   ]
  },
  {
   "cell_type": "code",
   "execution_count": 173,
   "id": "e0760420",
   "metadata": {},
   "outputs": [
    {
     "name": "stdout",
     "output_type": "stream",
     "text": [
      "[[3706.   17.]\n",
      " [  16. 3660.]]\n",
      "Accuracy :  0.9955399378294364\n",
      "F1-score for class 0:  0.9955674949630624\n",
      "F1-score for class 1:  0.9955120359037127\n",
      "AreaUnderROC:  0.9989597207255334\n"
     ]
    },
    {
     "data": {
      "image/png": "[encoded data removed]",
      "text/plain": [
       "<Figure size 432x288 with 1 Axes>"
      ]
     },
     "metadata": {},
     "output_type": "display_data"
    }
   ],
   "source": [
    "evaluate_performance_mlp_trainSet = evaluate_performance(df=train_split_df.limit(train_split_df.count()), model=mlp_cv)"
   ]
  },
  {
   "cell_type": "code",
   "execution_count": 174,
   "id": "c92fdb0b",
   "metadata": {},
   "outputs": [],
   "source": [
    "best_alpha = mlp_cv.bestModel.getStepSize()\n",
    "best_layer = mlp_cv.bestModel.getLayers()"
   ]
  },
  {
   "cell_type": "code",
   "execution_count": 175,
   "id": "b181089a",
   "metadata": {},
   "outputs": [
    {
     "name": "stdout",
     "output_type": "stream",
     "text": [
      "Best layer [100, 2, 2]\n",
      "Best learning rate: 0.01\n"
     ]
    }
   ],
   "source": [
    "print(\"Best layer\", best_layer)\n",
    "print(\"Best learning rate:\", best_alpha)"
   ]
  },
  {
   "cell_type": "markdown",
   "id": "b45b27e1",
   "metadata": {},
   "source": [
    "### HuggingFace Transformer  "
   ]
  },
  {
   "cell_type": "markdown",
   "id": "87a63549",
   "metadata": {},
   "source": [
    "#### Load Dataset"
   ]
  },
  {
   "cell_type": "code",
   "execution_count": 14,
   "id": "3bf46d85",
   "metadata": {},
   "outputs": [
    {
     "name": "stderr",
     "output_type": "stream",
     "text": [
      "Using custom data configuration default-c2673a6a464861ea\n",
      "Reusing dataset csv (C:\\Users\\User\\.cache\\huggingface\\datasets\\csv\\default-c2673a6a464861ea\\0.0.0\\433e0ccc46f9880962cc2b12065189766fbb2bee57a221866138fb9203c83519)\n"
     ]
    },
    {
     "data": {
      "application/vnd.jupyter.widget-view+json": {
       "model_id": "333b730647cd4d67b9f169f2c743033f",
       "version_major": 2,
       "version_minor": 0
      },
      "text/plain": [
       "  0%|          | 0/1 [00:00<?, ?it/s]"
      ]
     },
     "metadata": {},
     "output_type": "display_data"
    },
    {
     "data": {
      "text/plain": [
       "DatasetDict({\n",
       "    train: Dataset({\n",
       "        features: ['title', 'text', 'subject', 'date', 'label'],\n",
       "        num_rows: 44898\n",
       "    })\n",
       "})"
      ]
     },
     "execution_count": 14,
     "metadata": {},
     "output_type": "execute_result"
    }
   ],
   "source": [
    "from datasets import load_dataset\n",
    "\n",
    "df = load_dataset(\"csv\", data_files=\"news.csv\")\n",
    "df"
   ]
  },
  {
   "cell_type": "markdown",
   "id": "695971f4",
   "metadata": {},
   "source": [
    "#### Select first 10'000 shuffled training examples."
   ]
  },
  {
   "cell_type": "code",
   "execution_count": 15,
   "id": "e1c13711",
   "metadata": {},
   "outputs": [
    {
     "data": {
      "text/plain": [
       "Dataset({\n",
       "    features: ['title', 'text', 'subject', 'date', 'label'],\n",
       "    num_rows: 10000\n",
       "})"
      ]
     },
     "execution_count": 15,
     "metadata": {},
     "output_type": "execute_result"
    }
   ],
   "source": [
    "df = df['train'].shuffle().select(range(10000))\n",
    "df"
   ]
  },
  {
   "cell_type": "markdown",
   "id": "2f472a17",
   "metadata": {},
   "source": [
    "#### Split the original dataset. \n",
    "- 20% for Test Set and 80% Train Set \n",
    "- Apply shuffle technique to the dataset.\n",
    "- Set Seed value to save the state of a random function to make sure we get the same training and validation data set while we use different hyperparameters or ml algorithms."
   ]
  },
  {
   "cell_type": "code",
   "execution_count": 16,
   "id": "21731c8e",
   "metadata": {},
   "outputs": [
    {
     "data": {
      "text/plain": [
       "DatasetDict({\n",
       "    train: Dataset({\n",
       "        features: ['title', 'text', 'subject', 'date', 'label'],\n",
       "        num_rows: 8000\n",
       "    })\n",
       "    test: Dataset({\n",
       "        features: ['title', 'text', 'subject', 'date', 'label'],\n",
       "        num_rows: 2000\n",
       "    })\n",
       "})"
      ]
     },
     "execution_count": 16,
     "metadata": {},
     "output_type": "execute_result"
    }
   ],
   "source": [
    "dataset = df.train_test_split(test_size=0.2, shuffle=True, seed=10)\n",
    "dataset"
   ]
  },
  {
   "cell_type": "markdown",
   "id": "17d28be0",
   "metadata": {},
   "source": [
    "#### Create separate train/test .csv files to train and test the model."
   ]
  },
  {
   "cell_type": "code",
   "execution_count": 17,
   "id": "463f40c9",
   "metadata": {},
   "outputs": [],
   "source": [
    "df_train = dataset['train'].to_pandas()\n",
    "df_test = dataset['test'].to_pandas()\n",
    "df_train.to_csv('train.csv', index=False)\n",
    "df_test.to_csv('test.csv', index=False)"
   ]
  },
  {
   "cell_type": "markdown",
   "id": "0f779105",
   "metadata": {},
   "source": [
    "#### Split text into tokens\n",
    "\n",
    "- We used 'base-bert-uncased' variant of pre-trained BERT model.\n",
    "- We have set <i> truncation=True</i> and <i>padding</i> with the maximum length, so that we can get same length inputs for the model. If the text is long, then it will be truncated to 512 tokens, while the short texts will have extra tokens added to make it 512 tokens.\n",
    "\n",
    "- 512 tokens is used because this is the maximum token length that the BERT model can take.\n",
    "\n"
   ]
  },
  {
   "cell_type": "code",
   "execution_count": 18,
   "id": "c66ae484",
   "metadata": {},
   "outputs": [
    {
     "name": "stderr",
     "output_type": "stream",
     "text": [
      "loading configuration file https://huggingface.co/bert-base-uncased/resolve/main/config.json from cache at C:\\Users\\User/.cache\\huggingface\\transformers\\3c61d016573b14f7f008c02c4e51a366c67ab274726fe2910691e2a761acf43e.37395cee442ab11005bcd270f3c34464dc1704b715b5d7d52b1a461abe3b9e4e\n",
      "Model config BertConfig {\n",
      "  \"_name_or_path\": \"bert-base-uncased\",\n",
      "  \"architectures\": [\n",
      "    \"BertForMaskedLM\"\n",
      "  ],\n",
      "  \"attention_probs_dropout_prob\": 0.1,\n",
      "  \"classifier_dropout\": null,\n",
      "  \"gradient_checkpointing\": false,\n",
      "  \"hidden_act\": \"gelu\",\n",
      "  \"hidden_dropout_prob\": 0.1,\n",
      "  \"hidden_size\": 768,\n",
      "  \"initializer_range\": 0.02,\n",
      "  \"intermediate_size\": 3072,\n",
      "  \"layer_norm_eps\": 1e-12,\n",
      "  \"max_position_embeddings\": 512,\n",
      "  \"model_type\": \"bert\",\n",
      "  \"num_attention_heads\": 12,\n",
      "  \"num_hidden_layers\": 12,\n",
      "  \"pad_token_id\": 0,\n",
      "  \"position_embedding_type\": \"absolute\",\n",
      "  \"transformers_version\": \"4.19.2\",\n",
      "  \"type_vocab_size\": 2,\n",
      "  \"use_cache\": true,\n",
      "  \"vocab_size\": 30522\n",
      "}\n",
      "\n",
      "loading file https://huggingface.co/bert-base-uncased/resolve/main/vocab.txt from cache at C:\\Users\\User/.cache\\huggingface\\transformers\\45c3f7a79a80e1cf0a489e5c62b43f173c15db47864303a55d623bb3c96f72a5.d789d64ebfe299b0e416afc4a169632f903f693095b4629a7ea271d5a0cf2c99\n",
      "loading file https://huggingface.co/bert-base-uncased/resolve/main/tokenizer.json from cache at C:\\Users\\User/.cache\\huggingface\\transformers\\534479488c54aeaf9c3406f647aa2ec13648c06771ffe269edabebd4c412da1d.7f2721073f19841be16f41b0a70b600ca6b880c8f3df6f3535cbc704371bdfa4\n",
      "loading file https://huggingface.co/bert-base-uncased/resolve/main/added_tokens.json from cache at None\n",
      "loading file https://huggingface.co/bert-base-uncased/resolve/main/special_tokens_map.json from cache at None\n",
      "loading file https://huggingface.co/bert-base-uncased/resolve/main/tokenizer_config.json from cache at C:\\Users\\User/.cache\\huggingface\\transformers\\c1d7f0a763fb63861cc08553866f1fc3e5a6f4f07621be277452d26d71303b7e.20430bd8e10ef77a7d2977accefe796051e01bc2fc4aa146bc862997a1a15e79\n",
      "loading configuration file https://huggingface.co/bert-base-uncased/resolve/main/config.json from cache at C:\\Users\\User/.cache\\huggingface\\transformers\\3c61d016573b14f7f008c02c4e51a366c67ab274726fe2910691e2a761acf43e.37395cee442ab11005bcd270f3c34464dc1704b715b5d7d52b1a461abe3b9e4e\n",
      "Model config BertConfig {\n",
      "  \"_name_or_path\": \"bert-base-uncased\",\n",
      "  \"architectures\": [\n",
      "    \"BertForMaskedLM\"\n",
      "  ],\n",
      "  \"attention_probs_dropout_prob\": 0.1,\n",
      "  \"classifier_dropout\": null,\n",
      "  \"gradient_checkpointing\": false,\n",
      "  \"hidden_act\": \"gelu\",\n",
      "  \"hidden_dropout_prob\": 0.1,\n",
      "  \"hidden_size\": 768,\n",
      "  \"initializer_range\": 0.02,\n",
      "  \"intermediate_size\": 3072,\n",
      "  \"layer_norm_eps\": 1e-12,\n",
      "  \"max_position_embeddings\": 512,\n",
      "  \"model_type\": \"bert\",\n",
      "  \"num_attention_heads\": 12,\n",
      "  \"num_hidden_layers\": 12,\n",
      "  \"pad_token_id\": 0,\n",
      "  \"position_embedding_type\": \"absolute\",\n",
      "  \"transformers_version\": \"4.19.2\",\n",
      "  \"type_vocab_size\": 2,\n",
      "  \"use_cache\": true,\n",
      "  \"vocab_size\": 30522\n",
      "}\n",
      "\n"
     ]
    },
    {
     "data": {
      "application/vnd.jupyter.widget-view+json": {
       "model_id": "feffa5f4682a45ed8bf4d80e3d26191d",
       "version_major": 2,
       "version_minor": 0
      },
      "text/plain": [
       "  0%|          | 0/8 [00:00<?, ?ba/s]"
      ]
     },
     "metadata": {},
     "output_type": "display_data"
    },
    {
     "data": {
      "application/vnd.jupyter.widget-view+json": {
       "model_id": "c876a018acb04a89b575c7b4e810d049",
       "version_major": 2,
       "version_minor": 0
      },
      "text/plain": [
       "  0%|          | 0/2 [00:00<?, ?ba/s]"
      ]
     },
     "metadata": {},
     "output_type": "display_data"
    }
   ],
   "source": [
    "from transformers import AutoTokenizer\n",
    "\n",
    "checkpoint = \"bert-base-uncased\"\n",
    "tokenizer = AutoTokenizer.from_pretrained(checkpoint)\n",
    "\n",
    "def tokenize_function(example):\n",
    "    return tokenizer(example[\"text\"], truncation=True, padding='max_length')\n",
    "\n",
    "tokenized_datasets = dataset.map(tokenize_function, batched=True)"
   ]
  },
  {
   "cell_type": "code",
   "execution_count": 19,
   "id": "3899f6da",
   "metadata": {},
   "outputs": [
    {
     "data": {
      "text/plain": [
       "DatasetDict({\n",
       "    train: Dataset({\n",
       "        features: ['title', 'text', 'subject', 'date', 'label', 'input_ids', 'token_type_ids', 'attention_mask'],\n",
       "        num_rows: 8000\n",
       "    })\n",
       "    test: Dataset({\n",
       "        features: ['title', 'text', 'subject', 'date', 'label', 'input_ids', 'token_type_ids', 'attention_mask'],\n",
       "        num_rows: 2000\n",
       "    })\n",
       "})"
      ]
     },
     "execution_count": 19,
     "metadata": {},
     "output_type": "execute_result"
    }
   ],
   "source": [
    "tokenized_datasets"
   ]
  },
  {
   "cell_type": "markdown",
   "id": "6c86d2bc",
   "metadata": {},
   "source": [
    "#### Remove unimportant columns"
   ]
  },
  {
   "cell_type": "code",
   "execution_count": 20,
   "id": "89127838",
   "metadata": {},
   "outputs": [],
   "source": [
    "tokenized_datasets = tokenized_datasets.remove_columns(column_names=['title', 'text', 'subject', 'date'])\n"
   ]
  },
  {
   "cell_type": "markdown",
   "id": "4faf4af0",
   "metadata": {},
   "source": [
    "#### After tokenizing the text, we get a python dictionary with 3 keys:"
   ]
  },
  {
   "cell_type": "code",
   "execution_count": 21,
   "id": "82ef7365",
   "metadata": {},
   "outputs": [
    {
     "data": {
      "text/plain": [
       "DatasetDict({\n",
       "    train: Dataset({\n",
       "        features: ['label', 'input_ids', 'token_type_ids', 'attention_mask'],\n",
       "        num_rows: 8000\n",
       "    })\n",
       "    test: Dataset({\n",
       "        features: ['label', 'input_ids', 'token_type_ids', 'attention_mask'],\n",
       "        num_rows: 2000\n",
       "    })\n",
       "})"
      ]
     },
     "execution_count": 21,
     "metadata": {},
     "output_type": "execute_result"
    }
   ],
   "source": [
    "tokenized_datasets"
   ]
  },
  {
   "cell_type": "markdown",
   "id": "b8095b9b",
   "metadata": {},
   "source": [
    "#### Sequence Classification Model"
   ]
  },
  {
   "cell_type": "code",
   "execution_count": 22,
   "id": "ed65e495",
   "metadata": {},
   "outputs": [
    {
     "name": "stderr",
     "output_type": "stream",
     "text": [
      "loading configuration file https://huggingface.co/bert-base-uncased/resolve/main/config.json from cache at C:\\Users\\User/.cache\\huggingface\\transformers\\3c61d016573b14f7f008c02c4e51a366c67ab274726fe2910691e2a761acf43e.37395cee442ab11005bcd270f3c34464dc1704b715b5d7d52b1a461abe3b9e4e\n",
      "Model config BertConfig {\n",
      "  \"_name_or_path\": \"bert-base-uncased\",\n",
      "  \"architectures\": [\n",
      "    \"BertForMaskedLM\"\n",
      "  ],\n",
      "  \"attention_probs_dropout_prob\": 0.1,\n",
      "  \"classifier_dropout\": null,\n",
      "  \"gradient_checkpointing\": false,\n",
      "  \"hidden_act\": \"gelu\",\n",
      "  \"hidden_dropout_prob\": 0.1,\n",
      "  \"hidden_size\": 768,\n",
      "  \"initializer_range\": 0.02,\n",
      "  \"intermediate_size\": 3072,\n",
      "  \"layer_norm_eps\": 1e-12,\n",
      "  \"max_position_embeddings\": 512,\n",
      "  \"model_type\": \"bert\",\n",
      "  \"num_attention_heads\": 12,\n",
      "  \"num_hidden_layers\": 12,\n",
      "  \"pad_token_id\": 0,\n",
      "  \"position_embedding_type\": \"absolute\",\n",
      "  \"transformers_version\": \"4.19.2\",\n",
      "  \"type_vocab_size\": 2,\n",
      "  \"use_cache\": true,\n",
      "  \"vocab_size\": 30522\n",
      "}\n",
      "\n",
      "loading weights file https://huggingface.co/bert-base-uncased/resolve/main/pytorch_model.bin from cache at C:\\Users\\User/.cache\\huggingface\\transformers\\a8041bf617d7f94ea26d15e218abd04afc2004805632abc0ed2066aa16d50d04.faf6ea826ae9c5867d12b22257f9877e6b8367890837bd60f7c54a29633f7f2f\n",
      "Some weights of the model checkpoint at bert-base-uncased were not used when initializing BertForSequenceClassification: ['cls.seq_relationship.weight', 'cls.predictions.transform.LayerNorm.weight', 'cls.predictions.decoder.weight', 'cls.predictions.transform.dense.weight', 'cls.seq_relationship.bias', 'cls.predictions.transform.LayerNorm.bias', 'cls.predictions.transform.dense.bias', 'cls.predictions.bias']\n",
      "- This IS expected if you are initializing BertForSequenceClassification from the checkpoint of a model trained on another task or with another architecture (e.g. initializing a BertForSequenceClassification model from a BertForPreTraining model).\n",
      "- This IS NOT expected if you are initializing BertForSequenceClassification from the checkpoint of a model that you expect to be exactly identical (initializing a BertForSequenceClassification model from a BertForSequenceClassification model).\n",
      "Some weights of BertForSequenceClassification were not initialized from the model checkpoint at bert-base-uncased and are newly initialized: ['classifier.bias', 'classifier.weight']\n",
      "You should probably TRAIN this model on a down-stream task to be able to use it for predictions and inference.\n"
     ]
    }
   ],
   "source": [
    "from transformers import AutoModelForSequenceClassification\n",
    "\n",
    "model = AutoModelForSequenceClassification.from_pretrained(checkpoint, num_labels=2)"
   ]
  },
  {
   "cell_type": "markdown",
   "id": "1f1514cf",
   "metadata": {},
   "source": [
    "#### Define Training Arguments"
   ]
  },
  {
   "cell_type": "code",
   "execution_count": 23,
   "id": "6cbc6502",
   "metadata": {},
   "outputs": [
    {
     "name": "stderr",
     "output_type": "stream",
     "text": [
      "using `logging_steps` to initialize `eval_steps` to 50\n",
      "PyTorch: setting up devices\n",
      "The default value for the training argument `--report_to` will change in v5 (from all installed integrations to none). In v5, you will need to use `--report_to all` to get the same behavior as now. You should start updating your code and make this info disappear :-).\n"
     ]
    }
   ],
   "source": [
    "from transformers import TrainingArguments\n",
    "    \n",
    "training_args = TrainingArguments(\n",
    "    output_dir='model_results',          # output directory\n",
    "    overwrite_output_dir=True,           # overwrite the output_dir if it exists\n",
    "    num_train_epochs=1,                  # total number of training epochs\n",
    "    learning_rate=2e-5,                  # set learning rate \n",
    "    per_device_train_batch_size=8,       # batch size per device during training\n",
    "    per_device_eval_batch_size=8,        # batch size for evaluation\n",
    "    warmup_steps=20,                     # number of warmup steps for learning rate scheduler\n",
    "    weight_decay=0.01,                   # strength of weight decay\n",
    "    logging_dir=None,                    # directory for storing logs\n",
    "    logging_steps=50,                    # nr of training/update sets to show logging\n",
    "    evaluation_strategy='steps'\n",
    ")"
   ]
  },
  {
   "cell_type": "markdown",
   "id": "28364f4c",
   "metadata": {},
   "source": [
    "#### Evaluate model - AUC score & F1-Score"
   ]
  },
  {
   "cell_type": "code",
   "execution_count": 24,
   "id": "da106a39",
   "metadata": {},
   "outputs": [],
   "source": [
    "from datasets import load_metric\n",
    "import numpy as np\n",
    "from sklearn.metrics import roc_auc_score, f1_score\n",
    "\n",
    "metric = load_metric(\"glue\", \"mrpc\")\n",
    "\n",
    "def compute_metrics(eval_preds):\n",
    "    logits, labels = eval_preds\n",
    "    predictions = np.argmax(logits, axis=-1)\n",
    "    auc_score = roc_auc_score(labels, predictions)\n",
    "    f1 = f1_score(labels, predictions)\n",
    "    return {'AUC SCORE' : auc_score, 'F1 SCORE' : f1}"
   ]
  },
  {
   "cell_type": "markdown",
   "id": "c3a3e6b4",
   "metadata": {},
   "source": [
    "#### Define Training"
   ]
  },
  {
   "cell_type": "code",
   "execution_count": 26,
   "id": "5c0c0f4b",
   "metadata": {},
   "outputs": [
    {
     "data": {
      "text/plain": [
       "<transformers.trainer.Trainer at 0x2190cd39850>"
      ]
     },
     "execution_count": 26,
     "metadata": {},
     "output_type": "execute_result"
    }
   ],
   "source": [
    "from transformers import Trainer\n",
    "\n",
    "trainer = Trainer(\n",
    "    model=model,\n",
    "    args=training_args,\n",
    "    train_dataset=tokenized_datasets[\"train\"],\n",
    "    eval_dataset=tokenized_datasets[\"test\"],\n",
    "    compute_metrics=compute_metrics\n",
    ")\n",
    "\n",
    "trainer"
   ]
  },
  {
   "cell_type": "markdown",
   "id": "6cd2e8fb",
   "metadata": {},
   "source": [
    "#### Train pre-trained model"
   ]
  },
  {
   "cell_type": "code",
   "execution_count": 27,
   "id": "d3b545a6",
   "metadata": {},
   "outputs": [
    {
     "name": "stderr",
     "output_type": "stream",
     "text": [
      "***** Running training *****\n",
      "  Num examples = 8000\n",
      "  Num Epochs = 1\n",
      "  Instantaneous batch size per device = 8\n",
      "  Total train batch size (w. parallel, distributed & accumulation) = 8\n",
      "  Gradient Accumulation steps = 1\n",
      "  Total optimization steps = 1000\n"
     ]
    },
    {
     "data": {
      "text/html": [
       "\n",
       "    <div>\n",
       "      \n",
       "      <progress value='1000' max='1000' style='width:300px; height:20px; vertical-align: middle;'></progress>\n",
       "      [1000/1000 24:03:48, Epoch 1/1]\n",
       "    </div>\n",
       "    <table border=\"1\" class=\"dataframe\">\n",
       "  <thead>\n",
       " <tr style=\"text-align: left;\">\n",
       "      <th>Step</th>\n",
       "      <th>Training Loss</th>\n",
       "      <th>Validation Loss</th>\n",
       "      <th>Auc score</th>\n",
       "      <th>F1 score</th>\n",
       "    </tr>\n",
       "  </thead>\n",
       "  <tbody>\n",
       "    <tr>\n",
       "      <td>50</td>\n",
       "      <td>0.401200</td>\n",
       "      <td>0.065084</td>\n",
       "      <td>0.994936</td>\n",
       "      <td>0.995247</td>\n",
       "    </tr>\n",
       "    <tr>\n",
       "      <td>100</td>\n",
       "      <td>0.030600</td>\n",
       "      <td>0.015547</td>\n",
       "      <td>0.996465</td>\n",
       "      <td>0.996671</td>\n",
       "    </tr>\n",
       "    <tr>\n",
       "      <td>150</td>\n",
       "      <td>0.018200</td>\n",
       "      <td>0.013467</td>\n",
       "      <td>0.997893</td>\n",
       "      <td>0.998101</td>\n",
       "    </tr>\n",
       "    <tr>\n",
       "      <td>200</td>\n",
       "      <td>0.048500</td>\n",
       "      <td>0.013619</td>\n",
       "      <td>0.997094</td>\n",
       "      <td>0.997140</td>\n",
       "    </tr>\n",
       "    <tr>\n",
       "      <td>250</td>\n",
       "      <td>0.012200</td>\n",
       "      <td>0.017956</td>\n",
       "      <td>0.996143</td>\n",
       "      <td>0.996183</td>\n",
       "    </tr>\n",
       "    <tr>\n",
       "      <td>300</td>\n",
       "      <td>0.004900</td>\n",
       "      <td>0.015848</td>\n",
       "      <td>0.996619</td>\n",
       "      <td>0.996662</td>\n",
       "    </tr>\n",
       "    <tr>\n",
       "      <td>350</td>\n",
       "      <td>0.000500</td>\n",
       "      <td>0.012246</td>\n",
       "      <td>0.997570</td>\n",
       "      <td>0.997618</td>\n",
       "    </tr>\n",
       "    <tr>\n",
       "      <td>400</td>\n",
       "      <td>0.017400</td>\n",
       "      <td>0.015866</td>\n",
       "      <td>0.997621</td>\n",
       "      <td>0.997616</td>\n",
       "    </tr>\n",
       "    <tr>\n",
       "      <td>450</td>\n",
       "      <td>0.000500</td>\n",
       "      <td>0.005751</td>\n",
       "      <td>0.998522</td>\n",
       "      <td>0.998572</td>\n",
       "    </tr>\n",
       "    <tr>\n",
       "      <td>500</td>\n",
       "      <td>0.000300</td>\n",
       "      <td>0.005346</td>\n",
       "      <td>0.998522</td>\n",
       "      <td>0.998572</td>\n",
       "    </tr>\n",
       "    <tr>\n",
       "      <td>550</td>\n",
       "      <td>0.000200</td>\n",
       "      <td>0.004894</td>\n",
       "      <td>0.998522</td>\n",
       "      <td>0.998572</td>\n",
       "    </tr>\n",
       "    <tr>\n",
       "      <td>600</td>\n",
       "      <td>0.028200</td>\n",
       "      <td>0.005539</td>\n",
       "      <td>0.998522</td>\n",
       "      <td>0.998572</td>\n",
       "    </tr>\n",
       "    <tr>\n",
       "      <td>650</td>\n",
       "      <td>0.000400</td>\n",
       "      <td>0.007740</td>\n",
       "      <td>0.998522</td>\n",
       "      <td>0.998572</td>\n",
       "    </tr>\n",
       "    <tr>\n",
       "      <td>700</td>\n",
       "      <td>0.017400</td>\n",
       "      <td>0.003522</td>\n",
       "      <td>0.997995</td>\n",
       "      <td>0.998097</td>\n",
       "    </tr>\n",
       "    <tr>\n",
       "      <td>750</td>\n",
       "      <td>0.000200</td>\n",
       "      <td>0.005250</td>\n",
       "      <td>0.998522</td>\n",
       "      <td>0.998572</td>\n",
       "    </tr>\n",
       "    <tr>\n",
       "      <td>800</td>\n",
       "      <td>0.000200</td>\n",
       "      <td>0.005265</td>\n",
       "      <td>0.998522</td>\n",
       "      <td>0.998572</td>\n",
       "    </tr>\n",
       "    <tr>\n",
       "      <td>850</td>\n",
       "      <td>0.000200</td>\n",
       "      <td>0.005215</td>\n",
       "      <td>0.998522</td>\n",
       "      <td>0.998572</td>\n",
       "    </tr>\n",
       "    <tr>\n",
       "      <td>900</td>\n",
       "      <td>0.017900</td>\n",
       "      <td>0.006277</td>\n",
       "      <td>0.998522</td>\n",
       "      <td>0.998572</td>\n",
       "    </tr>\n",
       "    <tr>\n",
       "      <td>950</td>\n",
       "      <td>0.011300</td>\n",
       "      <td>0.004674</td>\n",
       "      <td>0.998522</td>\n",
       "      <td>0.998572</td>\n",
       "    </tr>\n",
       "    <tr>\n",
       "      <td>1000</td>\n",
       "      <td>0.000200</td>\n",
       "      <td>0.004501</td>\n",
       "      <td>0.998522</td>\n",
       "      <td>0.998572</td>\n",
       "    </tr>\n",
       "  </tbody>\n",
       "</table><p>"
      ],
      "text/plain": [
       "<IPython.core.display.HTML object>"
      ]
     },
     "metadata": {},
     "output_type": "display_data"
    },
    {
     "name": "stderr",
     "output_type": "stream",
     "text": [
      "***** Running Evaluation *****\n",
      "  Num examples = 2000\n",
      "  Batch size = 8\n",
      "***** Running Evaluation *****\n",
      "  Num examples = 2000\n",
      "  Batch size = 8\n",
      "***** Running Evaluation *****\n",
      "  Num examples = 2000\n",
      "  Batch size = 8\n",
      "***** Running Evaluation *****\n",
      "  Num examples = 2000\n",
      "  Batch size = 8\n",
      "***** Running Evaluation *****\n",
      "  Num examples = 2000\n",
      "  Batch size = 8\n",
      "***** Running Evaluation *****\n",
      "  Num examples = 2000\n",
      "  Batch size = 8\n",
      "***** Running Evaluation *****\n",
      "  Num examples = 2000\n",
      "  Batch size = 8\n",
      "***** Running Evaluation *****\n",
      "  Num examples = 2000\n",
      "  Batch size = 8\n",
      "***** Running Evaluation *****\n",
      "  Num examples = 2000\n",
      "  Batch size = 8\n",
      "***** Running Evaluation *****\n",
      "  Num examples = 2000\n",
      "  Batch size = 8\n",
      "Saving model checkpoint to model_results\\checkpoint-500\n",
      "Configuration saved in model_results\\checkpoint-500\\config.json\n",
      "Model weights saved in model_results\\checkpoint-500\\pytorch_model.bin\n",
      "***** Running Evaluation *****\n",
      "  Num examples = 2000\n",
      "  Batch size = 8\n",
      "***** Running Evaluation *****\n",
      "  Num examples = 2000\n",
      "  Batch size = 8\n",
      "***** Running Evaluation *****\n",
      "  Num examples = 2000\n",
      "  Batch size = 8\n",
      "***** Running Evaluation *****\n",
      "  Num examples = 2000\n",
      "  Batch size = 8\n",
      "***** Running Evaluation *****\n",
      "  Num examples = 2000\n",
      "  Batch size = 8\n",
      "***** Running Evaluation *****\n",
      "  Num examples = 2000\n",
      "  Batch size = 8\n",
      "***** Running Evaluation *****\n",
      "  Num examples = 2000\n",
      "  Batch size = 8\n",
      "***** Running Evaluation *****\n",
      "  Num examples = 2000\n",
      "  Batch size = 8\n",
      "***** Running Evaluation *****\n",
      "  Num examples = 2000\n",
      "  Batch size = 8\n",
      "***** Running Evaluation *****\n",
      "  Num examples = 2000\n",
      "  Batch size = 8\n",
      "Saving model checkpoint to model_results\\checkpoint-1000\n",
      "Configuration saved in model_results\\checkpoint-1000\\config.json\n",
      "Model weights saved in model_results\\checkpoint-1000\\pytorch_model.bin\n",
      "\n",
      "\n",
      "Training completed. Do not forget to share your model on huggingface.co/models =)\n",
      "\n",
      "\n"
     ]
    },
    {
     "data": {
      "text/plain": [
       "TrainOutput(global_step=1000, training_loss=0.030529380468651654, metrics={'train_runtime': 86667.9886, 'train_samples_per_second': 0.092, 'train_steps_per_second': 0.012, 'total_flos': 2104888442880000.0, 'train_loss': 0.030529380468651654, 'epoch': 1.0})"
      ]
     },
     "execution_count": 27,
     "metadata": {},
     "output_type": "execute_result"
    }
   ],
   "source": [
    "trainer.train()"
   ]
  },
  {
   "cell_type": "code",
   "execution_count": 31,
   "id": "d309b92a",
   "metadata": {},
   "outputs": [
    {
     "data": {
      "text/plain": [
       "Dataset({\n",
       "    features: ['label', 'input_ids', 'token_type_ids', 'attention_mask'],\n",
       "    num_rows: 5\n",
       "})"
      ]
     },
     "execution_count": 31,
     "metadata": {},
     "output_type": "execute_result"
    }
   ],
   "source": [
    "tokenized_datasets[\"train\"].select(range(0,5))"
   ]
  },
  {
   "cell_type": "markdown",
   "id": "4eaab1a0",
   "metadata": {},
   "source": [
    "#### Perform prediction in the train set"
   ]
  },
  {
   "cell_type": "code",
   "execution_count": 176,
   "id": "25069c14",
   "metadata": {},
   "outputs": [
    {
     "name": "stderr",
     "output_type": "stream",
     "text": [
      "***** Running Prediction *****\n",
      "  Num examples = 8000\n",
      "  Batch size = 8\n"
     ]
    }
   ],
   "source": [
    "predictions = trainer.predict(tokenized_datasets[\"train\"])"
   ]
  },
  {
   "cell_type": "code",
   "execution_count": 177,
   "id": "1a65d21f",
   "metadata": {},
   "outputs": [
    {
     "data": {
      "text/plain": [
       "PredictionOutput(predictions=array([[ 4.612679 , -4.67133  ],\n",
       "       [-3.97607  ,  3.976919 ],\n",
       "       [ 4.701001 , -4.7297363],\n",
       "       ...,\n",
       "       [-4.1095963,  4.1166973],\n",
       "       [ 4.6605244, -4.704363 ],\n",
       "       [ 4.63709  , -4.7067747]], dtype=float32), label_ids=array([0, 1, 0, ..., 1, 0, 0], dtype=int64), metrics={'test_loss': 0.0043039098381996155, 'test_AUC SCORE': 0.9990943336099185, 'test_F1 SCORE': 0.9991639794577809, 'test_runtime': 10989.7419, 'test_samples_per_second': 0.728, 'test_steps_per_second': 0.091})"
      ]
     },
     "execution_count": 177,
     "metadata": {},
     "output_type": "execute_result"
    }
   ],
   "source": [
    "predictions"
   ]
  },
  {
   "cell_type": "markdown",
   "id": "7acf74c2",
   "metadata": {},
   "source": [
    "#### Perform prediction in the test set"
   ]
  },
  {
   "cell_type": "code",
   "execution_count": 188,
   "id": "5ac2cc89",
   "metadata": {},
   "outputs": [
    {
     "name": "stderr",
     "output_type": "stream",
     "text": [
      "***** Running Prediction *****\n",
      "  Num examples = 2000\n",
      "  Batch size = 8\n"
     ]
    }
   ],
   "source": [
    "test_predictions = trainer.predict(tokenized_datasets[\"test\"])"
   ]
  },
  {
   "cell_type": "code",
   "execution_count": 189,
   "id": "67c35064",
   "metadata": {},
   "outputs": [
    {
     "data": {
      "text/plain": [
       "PredictionOutput(predictions=array([[-4.4944572,  4.4739933],\n",
       "       [-4.4081397,  4.4146576],\n",
       "       [-4.5356436,  4.5622034],\n",
       "       ...,\n",
       "       [ 4.718771 , -4.705    ],\n",
       "       [ 4.6863885, -4.6990643],\n",
       "       [ 4.6458483, -4.6729765]], dtype=float32), label_ids=array([1, 1, 1, ..., 0, 0, 0], dtype=int64), metrics={'test_loss': 0.004500946030020714, 'test_AUC SCORE': 0.9985216548241977, 'test_F1 SCORE': 0.9985721085197524, 'test_runtime': 3060.7679, 'test_samples_per_second': 0.653, 'test_steps_per_second': 0.082})"
      ]
     },
     "execution_count": 189,
     "metadata": {},
     "output_type": "execute_result"
    }
   ],
   "source": [
    "test_predictions"
   ]
  },
  {
   "cell_type": "markdown",
   "id": "a4a72647",
   "metadata": {},
   "source": [
    "#### Preprocess raw predictions\n",
    "\n",
    "- Define maximum value from a target function / find the class with the largest predicted probability."
   ]
  },
  {
   "cell_type": "code",
   "execution_count": 178,
   "id": "0c90a40f",
   "metadata": {},
   "outputs": [],
   "source": [
    "preds = np.argmax(predictions.predictions, axis=-1)"
   ]
  },
  {
   "cell_type": "code",
   "execution_count": 179,
   "id": "19bd7bf4",
   "metadata": {},
   "outputs": [
    {
     "data": {
      "text/plain": [
       "array([0, 1, 0, ..., 1, 0, 0], dtype=int64)"
      ]
     },
     "execution_count": 179,
     "metadata": {},
     "output_type": "execute_result"
    }
   ],
   "source": [
    "preds"
   ]
  },
  {
   "cell_type": "markdown",
   "id": "faaa4ec3",
   "metadata": {},
   "source": [
    "### Save Transformer Model"
   ]
  },
  {
   "cell_type": "code",
   "execution_count": 36,
   "id": "24368c50",
   "metadata": {},
   "outputs": [
    {
     "name": "stderr",
     "output_type": "stream",
     "text": [
      "Saving model checkpoint to TransformerModel\n",
      "Configuration saved in TransformerModel\\config.json\n",
      "Model weights saved in TransformerModel\\pytorch_model.bin\n"
     ]
    }
   ],
   "source": [
    "trainer.save_model(output_dir='TransformerModel') "
   ]
  },
  {
   "cell_type": "code",
   "execution_count": 180,
   "id": "41575190",
   "metadata": {},
   "outputs": [
    {
     "data": {
      "text/plain": [
       "'bert-base-uncased'"
      ]
     },
     "execution_count": 180,
     "metadata": {},
     "output_type": "execute_result"
    }
   ],
   "source": [
    "checkpoint"
   ]
  },
  {
   "cell_type": "markdown",
   "id": "305b83b0",
   "metadata": {},
   "source": [
    "### Load the Transformer Model and use it"
   ]
  },
  {
   "cell_type": "code",
   "execution_count": 182,
   "id": "2131b33c",
   "metadata": {},
   "outputs": [
    {
     "name": "stderr",
     "output_type": "stream",
     "text": [
      "loading configuration file TransformerModel\\config.json\n",
      "Model config BertConfig {\n",
      "  \"_name_or_path\": \"TransformerModel\",\n",
      "  \"architectures\": [\n",
      "    \"BertForSequenceClassification\"\n",
      "  ],\n",
      "  \"attention_probs_dropout_prob\": 0.1,\n",
      "  \"classifier_dropout\": null,\n",
      "  \"gradient_checkpointing\": false,\n",
      "  \"hidden_act\": \"gelu\",\n",
      "  \"hidden_dropout_prob\": 0.1,\n",
      "  \"hidden_size\": 768,\n",
      "  \"initializer_range\": 0.02,\n",
      "  \"intermediate_size\": 3072,\n",
      "  \"layer_norm_eps\": 1e-12,\n",
      "  \"max_position_embeddings\": 512,\n",
      "  \"model_type\": \"bert\",\n",
      "  \"num_attention_heads\": 12,\n",
      "  \"num_hidden_layers\": 12,\n",
      "  \"pad_token_id\": 0,\n",
      "  \"position_embedding_type\": \"absolute\",\n",
      "  \"problem_type\": \"single_label_classification\",\n",
      "  \"torch_dtype\": \"float32\",\n",
      "  \"transformers_version\": \"4.19.2\",\n",
      "  \"type_vocab_size\": 2,\n",
      "  \"use_cache\": true,\n",
      "  \"vocab_size\": 30522\n",
      "}\n",
      "\n",
      "loading weights file TransformerModel\\pytorch_model.bin\n",
      "All model checkpoint weights were used when initializing BertForSequenceClassification.\n",
      "\n",
      "All the weights of BertForSequenceClassification were initialized from the model checkpoint at TransformerModel.\n",
      "If your task is similar to the task the model of the checkpoint was trained on, you can already use BertForSequenceClassification for predictions without further training.\n"
     ]
    }
   ],
   "source": [
    "loaded_model = AutoModelForSequenceClassification.from_pretrained(\"TransformerModel\", local_files_only=True)"
   ]
  },
  {
   "cell_type": "code",
   "execution_count": 183,
   "id": "7a34f102",
   "metadata": {},
   "outputs": [
    {
     "data": {
      "text/plain": [
       "Dataset({\n",
       "    features: ['input_ids', 'token_type_ids', 'attention_mask'],\n",
       "    num_rows: 5\n",
       "})"
      ]
     },
     "execution_count": 183,
     "metadata": {},
     "output_type": "execute_result"
    }
   ],
   "source": [
    "small_df = tokenized_datasets[\"train\"].select(range(0,5))\n",
    "small_df = small_df.remove_columns(column_names=['label'])\n",
    "small_df\n",
    "small_df"
   ]
  },
  {
   "cell_type": "markdown",
   "id": "b73d49c2",
   "metadata": {},
   "source": [
    "#### Example with a single document"
   ]
  },
  {
   "cell_type": "code",
   "execution_count": 184,
   "id": "94ea3278",
   "metadata": {},
   "outputs": [],
   "source": [
    "txt = (\"Given the recent downturn in stocks especially in tech which is likely to persist as yields keep going up, \"\n",
    "       \"I thought it would be prudent to share the risks of investing in ARK ETFs, written up very nicely by \"\n",
    "       \"[The Bear Cave](https://thebearcave.substack.com/p/special-edition-will-ark-invest-blow). The risks comes \"\n",
    "       \"primarily from ARK's illiquid and very large holdings in small cap companies. ARK is forced to sell its \"\n",
    "       \"holdings whenever its liquid ETF gets hit with outflows as is especially the case in market downturns. \"\n",
    "       \"This could force very painful liquidations at unfavorable prices and the ensuing crash goes into a \"\n",
    "       \"positive feedback loop leading into a death spiral enticing even more outflows and predatory shorts.\")\n",
    "\n",
    "tokens = tokenizer.encode_plus(txt, truncation=True, padding='max_length', return_tensors='pt')"
   ]
  },
  {
   "cell_type": "code",
   "execution_count": 185,
   "id": "4e530a22",
   "metadata": {},
   "outputs": [
    {
     "data": {
      "text/plain": [
       "dict_keys(['input_ids', 'token_type_ids', 'attention_mask'])"
      ]
     },
     "execution_count": 185,
     "metadata": {},
     "output_type": "execute_result"
    }
   ],
   "source": [
    "tokens.keys()"
   ]
  },
  {
   "cell_type": "code",
   "execution_count": 186,
   "id": "7cf9ca6a",
   "metadata": {},
   "outputs": [
    {
     "data": {
      "text/plain": [
       "tensor([[-3.9542,  3.9245]], grad_fn=<AddmmBackward0>)"
      ]
     },
     "execution_count": 186,
     "metadata": {},
     "output_type": "execute_result"
    }
   ],
   "source": [
    "pred = loaded_model(**tokens)\n",
    "pred.logits"
   ]
  },
  {
   "cell_type": "code",
   "execution_count": 187,
   "id": "b49349e7",
   "metadata": {},
   "outputs": [
    {
     "data": {
      "text/plain": [
       "1"
      ]
     },
     "execution_count": 187,
     "metadata": {},
     "output_type": "execute_result"
    }
   ],
   "source": [
    "import torch\n",
    "\n",
    "torch.argmax(pred.logits).item()"
   ]
  }
 ],
 "metadata": {
  "kernelspec": {
   "display_name": "Python 3 (ipykernel)",
   "language": "python",
   "name": "python3"
  },
  "language_info": {
   "codemirror_mode": {
    "name": "ipython",
    "version": 3
   },
   "file_extension": ".py",
   "mimetype": "text/x-python",
   "name": "python",
   "nbconvert_exporter": "python",
   "pygments_lexer": "ipython3",
   "version": "3.9.7"
  }
 },
 "nbformat": 4,
 "nbformat_minor": 5
}
