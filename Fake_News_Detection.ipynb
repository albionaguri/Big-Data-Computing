{
 "cells": [
  {
   "cell_type": "markdown",
   "id": "4fb17eb5",
   "metadata": {},
   "source": [
    "## Fake News Binary Classification Problem"
   ]
  },
  {
   "cell_type": "code",
   "execution_count": 2,
   "id": "46f0d947",
   "metadata": {},
   "outputs": [],
   "source": [
    "# import libraries\n",
    "\n",
    "import requests\n",
    "import pandas as pd\n",
    "import numpy as np\n",
    "import matplotlib.pyplot as plt\n",
    "import seaborn as sns\n",
    "%matplotlib inline\n",
    "\n",
    "import pyspark\n",
    "from pyspark.sql import *\n",
    "from pyspark.sql.types import *\n",
    "from pyspark.sql.functions import *\n",
    "from pyspark import SparkContext, SparkConf"
   ]
  },
  {
   "cell_type": "code",
   "execution_count": 3,
   "id": "4561fa01",
   "metadata": {},
   "outputs": [],
   "source": [
    "# specify the configuration of the Spark application\n",
    "\n",
    "conf = SparkConf().set(\"spark.ui.port\", \"4050\").set('spark.executor.memory', '4G').set('spark.driver.memory', '45G').set('spark.driver.maxResultSize', '10G')\n"
   ]
  },
  {
   "cell_type": "markdown",
   "id": "ed3262cb",
   "metadata": {},
   "source": [
    "#### Create spark session\n"
   ]
  },
  {
   "cell_type": "code",
   "execution_count": 4,
   "id": "f33a5cef",
   "metadata": {},
   "outputs": [],
   "source": [
    "import os\n",
    "os.environ['PYSPARK_PYTHON'] = sys.executable\n",
    "os.environ['PYSPARK_DRIVER_PYTHON'] = sys.executable\n",
    "spark = SparkSession.builder.getOrCreate()"
   ]
  },
  {
   "cell_type": "code",
   "execution_count": 5,
   "id": "035787ad",
   "metadata": {},
   "outputs": [
    {
     "data": {
      "text/html": [
       "\n",
       "            <div>\n",
       "                <p><b>SparkSession - in-memory</b></p>\n",
       "                \n",
       "        <div>\n",
       "            <p><b>SparkContext</b></p>\n",
       "\n",
       "            <p><a href=\"http://DESKTOP-JG65RP7.station:4040\">Spark UI</a></p>\n",
       "\n",
       "            <dl>\n",
       "              <dt>Version</dt>\n",
       "                <dd><code>v3.2.1</code></dd>\n",
       "              <dt>Master</dt>\n",
       "                <dd><code>local[*]</code></dd>\n",
       "              <dt>AppName</dt>\n",
       "                <dd><code>pyspark-shell</code></dd>\n",
       "            </dl>\n",
       "        </div>\n",
       "        \n",
       "            </div>\n",
       "        "
      ],
      "text/plain": [
       "<pyspark.sql.session.SparkSession at 0x1f3640601f0>"
      ]
     },
     "execution_count": 5,
     "metadata": {},
     "output_type": "execute_result"
    }
   ],
   "source": [
    "spark"
   ]
  },
  {
   "cell_type": "markdown",
   "id": "f09385e9",
   "metadata": {},
   "source": [
    "#### Dataset Exploration"
   ]
  },
  {
   "cell_type": "code",
   "execution_count": 6,
   "id": "13cb5a15",
   "metadata": {},
   "outputs": [],
   "source": [
    "# Read the dataset \n",
    "\n",
    "news_df = spark.read.csv(path=\"news.csv\",\n",
    "                         sep=\",\",\n",
    "                         inferSchema=\"true\",\n",
    "                         header=\"true\")\n"
   ]
  },
  {
   "cell_type": "code",
   "execution_count": 7,
   "id": "d35fd528",
   "metadata": {},
   "outputs": [
    {
     "name": "stdout",
     "output_type": "stream",
     "text": [
      "root\n",
      " |-- title: string (nullable = true)\n",
      " |-- text: string (nullable = true)\n",
      " |-- subject: string (nullable = true)\n",
      " |-- date: string (nullable = true)\n",
      " |-- label: string (nullable = true)\n",
      "\n"
     ]
    }
   ],
   "source": [
    "# Types of the features of the dataframe\n",
    "\n",
    "news_df.printSchema()"
   ]
  },
  {
   "cell_type": "code",
   "execution_count": 8,
   "id": "22a968bd",
   "metadata": {},
   "outputs": [
    {
     "name": "stdout",
     "output_type": "stream",
     "text": [
      "The shape of the dataset is 44906 rows by 5 columns\n"
     ]
    }
   ],
   "source": [
    "# Shape of the dataset\n",
    "\n",
    "print(\"The shape of the dataset is {:d} rows by {:d} columns\".format(news_df.count(), len(news_df.columns)))\n"
   ]
  },
  {
   "cell_type": "code",
   "execution_count": 9,
   "id": "ffc811d4",
   "metadata": {},
   "outputs": [
    {
     "name": "stdout",
     "output_type": "stream",
     "text": [
      "+--------------------+\n",
      "|               label|\n",
      "+--------------------+\n",
      "|                   1|\n",
      "|               2017\"|\n",
      "|                   0|\n",
      "|                   1|\n",
      "|                   0|\n",
      "|                   1|\n",
      "|                   1|\n",
      "|                   0|\n",
      "|                   1|\n",
      "|                   0|\n",
      "|                   1|\n",
      "|                   0|\n",
      "|                   1|\n",
      "|                   1|\n",
      "|                   1|\n",
      "|                   0|\n",
      "|                   1|\n",
      "|                   0|\n",
      "|                   0|\n",
      "|                   1|\n",
      "|                   1|\n",
      "|                   0|\n",
      "|                   0|\n",
      "|                   0|\n",
      "|                   0|\n",
      "|                   0|\n",
      "|                   0|\n",
      "|                   1|\n",
      "|                   1|\n",
      "|                   0|\n",
      "|                   1|\n",
      "|                   1|\n",
      "|                   0|\n",
      "|                   1|\n",
      "|                   0|\n",
      "|                   1|\n",
      "|                   0|\n",
      "|                   0|\n",
      "|                   0|\n",
      "|                   0|\n",
      "|           left-news|\n",
      "|                   0|\n",
      "|                   0|\n",
      "|                   1|\n",
      "|                   1|\n",
      "|                   0|\n",
      "|                   1|\n",
      "|                   0|\n",
      "|                   1|\n",
      "|                   0|\n",
      "|                   1|\n",
      "|                   0|\n",
      "|                   0|\n",
      "|                   1|\n",
      "|                   0|\n",
      "|                   1|\n",
      "|                   0|\n",
      "|                   1|\n",
      "|                   0|\n",
      "|                   1|\n",
      "|                   1|\n",
      "|                   1|\n",
      "|                   1|\n",
      "|                   1|\n",
      "|                   1|\n",
      "|                   0|\n",
      "|                   0|\n",
      "|                   1|\n",
      "|                   1|\n",
      "|                   1|\n",
      "|                   0|\n",
      "|                   1|\n",
      "|                   1|\n",
      "|                   0|\n",
      "|                   0|\n",
      "|                   0|\n",
      "|                   1|\n",
      "|                   0|\n",
      "| Trump apparently...|\n",
      "|                   0|\n",
      "|                   1|\n",
      "|                   0|\n",
      "|                   1|\n",
      "|                   0|\n",
      "|                   0|\n",
      "|                   1|\n",
      "|                   0|\n",
      "|                   1|\n",
      "|                   0|\n",
      "|                   1|\n",
      "|                   0|\n",
      "|                   0|\n",
      "|                   0|\n",
      "|                   0|\n",
      "|                   1|\n",
      "|                   0|\n",
      "|                   1|\n",
      "|                   1|\n",
      "|                   0|\n",
      "|                   1|\n",
      "+--------------------+\n",
      "only showing top 100 rows\n",
      "\n"
     ]
    }
   ],
   "source": [
    "# Display values of the target\n",
    "\n",
    "news_df.select(\"label\").show(100)"
   ]
  },
  {
   "cell_type": "code",
   "execution_count": 10,
   "id": "b5f49d85",
   "metadata": {},
   "outputs": [],
   "source": [
    "# Remove unimportant rows of the df\n",
    "\n",
    "news_df = news_df.filter((news_df.label == 1) | (news_df.label == 0))"
   ]
  },
  {
   "cell_type": "code",
   "execution_count": 11,
   "id": "2cbeeb60",
   "metadata": {},
   "outputs": [
    {
     "data": {
      "text/plain": [
       "43638"
      ]
     },
     "execution_count": 11,
     "metadata": {},
     "output_type": "execute_result"
    }
   ],
   "source": [
    "# Displaying the shape of the df after removing unnecessary rows\n",
    "\n",
    "news_df.count()"
   ]
  },
  {
   "cell_type": "code",
   "execution_count": 12,
   "id": "f5a7e7dc",
   "metadata": {},
   "outputs": [
    {
     "name": "stdout",
     "output_type": "stream",
     "text": [
      "+--------------------+--------------------+---------------+-------------------+-----+\n",
      "|               title|                text|        subject|               date|label|\n",
      "+--------------------+--------------------+---------------+-------------------+-----+\n",
      "| What Beyoncé Jus...|While so many kee...|           News|  February 22, 2016|    1|\n",
      "|Lavrov: U.S. pres...|MOSCOW (Reuters) ...|      worldnews|  December 7, 2017 |    0|\n",
      "|ILLEGAL ALIEN ARR...|Since when did fu...|      left-news|        Jul 8, 2015|    1|\n",
      "|McConnell rules o...|WASHINGTON (Reute...|   politicsNews|    March 20, 2016 |    0|\n",
      "|MUSLIM ACTIVISTS ...|Who would ve gues...|Government News|       Dec 23, 2015|    1|\n",
      "|BREAKING: #Crooke...|She s the most cr...|      left-news|       Aug 30, 2016|    1|\n",
      "|France's Macron i...|PARIS (Reuters) -...|      worldnews| November 15, 2017 |    0|\n",
      "| Two Unarmed Secu...|Sometime around 2...|           News|      July 17, 2016|    1|\n",
      "|Bill proposes let...|WASHINGTON (Reute...|   politicsNews|     June 21, 2017 |    0|\n",
      "| Harry Reid Has B...|After Republicans...|           News|      June 21, 2016|    1|\n",
      "|Baghdad piles pre...|BAGHDAD/ERBIL, Ir...|      worldnews|September 26, 2017 |    0|\n",
      "|CNBC EDITOR: Medi...|A CNBC editor sai...|      left-news|       Jun 29, 2017|    1|\n",
      "| How Donald Trump...|After they were c...|           News|      March 7, 2016|    1|\n",
      "|“LITTLE” MARCO RU...|                    |Government News|       Jan 11, 2017|    1|\n",
      "|From 'Hillarycare...|WASHINGTON (Reute...|   politicsNews|      June 6, 2016 |    0|\n",
      "+--------------------+--------------------+---------------+-------------------+-----+\n",
      "only showing top 15 rows\n",
      "\n"
     ]
    }
   ],
   "source": [
    "# show  first rows of the dataframe\n",
    "\n",
    "news_df.show(n=15)"
   ]
  },
  {
   "cell_type": "code",
   "execution_count": 13,
   "id": "481ce653",
   "metadata": {},
   "outputs": [],
   "source": [
    "# Convert string data type into integer type\n",
    "\n",
    "news_df = news_df.withColumn(\"label\", news_df.label.cast('int'))\n"
   ]
  },
  {
   "cell_type": "code",
   "execution_count": 14,
   "id": "c6ad3724",
   "metadata": {},
   "outputs": [
    {
     "data": {
      "text/plain": [
       "[('label', 'int')]"
      ]
     },
     "execution_count": 14,
     "metadata": {},
     "output_type": "execute_result"
    }
   ],
   "source": [
    "news_df.select(\"label\").dtypes"
   ]
  },
  {
   "cell_type": "code",
   "execution_count": 15,
   "id": "c3f7cc1a",
   "metadata": {},
   "outputs": [],
   "source": [
    "# import libraries for text cleaning\n",
    "\n",
    "from pyspark.sql.functions import isnan, when, count, col"
   ]
  },
  {
   "cell_type": "code",
   "execution_count": 16,
   "id": "59235ce3",
   "metadata": {},
   "outputs": [
    {
     "name": "stdout",
     "output_type": "stream",
     "text": [
      "+-----+----+-------+----+-----+\n",
      "|title|text|subject|date|label|\n",
      "+-----+----+-------+----+-----+\n",
      "|    0|   0|      0|   0|    0|\n",
      "+-----+----+-------+----+-----+\n",
      "\n"
     ]
    }
   ],
   "source": [
    "# Cheking for null values\n",
    "\n",
    "news_df.select([count(when(isnan(col), col)).alias(col) for col in news_df.columns]).show()\n"
   ]
  },
  {
   "cell_type": "code",
   "execution_count": 17,
   "id": "ea2b3ade",
   "metadata": {},
   "outputs": [],
   "source": [
    "# Removing unimportant features \n",
    "\n",
    "news_df = news_df.drop(\"subject\",\"date\", \"title\")"
   ]
  },
  {
   "cell_type": "code",
   "execution_count": 18,
   "id": "c57c5678",
   "metadata": {},
   "outputs": [
    {
     "data": {
      "text/plain": [
       "['text', 'label']"
      ]
     },
     "execution_count": 18,
     "metadata": {},
     "output_type": "execute_result"
    }
   ],
   "source": [
    "news_df.columns"
   ]
  },
  {
   "cell_type": "code",
   "execution_count": 19,
   "id": "375680d2",
   "metadata": {},
   "outputs": [
    {
     "name": "stdout",
     "output_type": "stream",
     "text": [
      "+-----+\n",
      "|label|\n",
      "+-----+\n",
      "|    1|\n",
      "|    0|\n",
      "|    1|\n",
      "|    0|\n",
      "|    1|\n",
      "|    1|\n",
      "|    0|\n",
      "|    1|\n",
      "|    0|\n",
      "|    1|\n",
      "+-----+\n",
      "only showing top 10 rows\n",
      "\n"
     ]
    }
   ],
   "source": [
    "#show the independent feature of the dataframe\n",
    "\n",
    "news_df.select(\"label\").show(n=10)"
   ]
  },
  {
   "cell_type": "code",
   "execution_count": 20,
   "id": "59e8beb4",
   "metadata": {},
   "outputs": [],
   "source": [
    "# check if the dataset is imbalanced\n",
    "\n",
    "major_df = news_df.filter(col(\"label\") == 1)\n",
    "minor_df = news_df.filter(col(\"label\") == 0)"
   ]
  },
  {
   "cell_type": "code",
   "execution_count": 21,
   "id": "9f48d4e0",
   "metadata": {},
   "outputs": [],
   "source": [
    "ratio = (major_df.count()/minor_df.count())"
   ]
  },
  {
   "cell_type": "code",
   "execution_count": 22,
   "id": "6ed5752f",
   "metadata": {},
   "outputs": [
    {
     "name": "stdout",
     "output_type": "stream",
     "text": [
      "ratio: 1.0464265616207091\n"
     ]
    }
   ],
   "source": [
    "# ratio between minority and majority class\n",
    "\n",
    "print(\"ratio: {}\".format(ratio)) "
   ]
  },
  {
   "cell_type": "code",
   "execution_count": 23,
   "id": "ac4a191d",
   "metadata": {},
   "outputs": [
    {
     "name": "stdout",
     "output_type": "stream",
     "text": [
      "Class 1:51.13433246253265 \n"
     ]
    }
   ],
   "source": [
    "# majority class\n",
    "\n",
    "print(f\"Class 1:{major_df.count()/news_df.count() * 100} \")\n"
   ]
  },
  {
   "cell_type": "code",
   "execution_count": 24,
   "id": "4e4262a5",
   "metadata": {},
   "outputs": [
    {
     "name": "stdout",
     "output_type": "stream",
     "text": [
      "Class 0: 48.865667537467345 \n"
     ]
    }
   ],
   "source": [
    "# minority class\n",
    "\n",
    "print(f\"Class 0: {minor_df.count()/news_df.count() * 100} \")\n"
   ]
  },
  {
   "cell_type": "code",
   "execution_count": 25,
   "id": "0c7f4697",
   "metadata": {},
   "outputs": [],
   "source": [
    "# visualize label \n",
    "\n",
    "visualize_label = news_df.select(\"label\").toPandas()"
   ]
  },
  {
   "cell_type": "code",
   "execution_count": 26,
   "id": "4ea01515",
   "metadata": {},
   "outputs": [
    {
     "data": {
      "text/plain": [
       "<AxesSubplot:xlabel='label', ylabel='count'>"
      ]
     },
     "execution_count": 26,
     "metadata": {},
     "output_type": "execute_result"
    },
    {
     "data": {
      "image/png": "[encoded data removed]",
      "text/plain": [
       "<Figure size 432x288 with 1 Axes>"
      ]
     },
     "metadata": {},
     "output_type": "display_data"
    }
   ],
   "source": [
    "sns.set_style('whitegrid')\n",
    "sns.countplot(x='label',data=visualize_label)"
   ]
  },
  {
   "cell_type": "code",
   "execution_count": 27,
   "id": "fb9fc84a",
   "metadata": {},
   "outputs": [
    {
     "name": "stdout",
     "output_type": "stream",
     "text": [
      "The total number of duplicated news are 5989 out of 43638\n"
     ]
    }
   ],
   "source": [
    "# Print the number of duplicated news in the dataframe\n",
    "\n",
    "print(\"The total number of duplicated news are {:d} out of {:d}\".\n",
    "      format(news_df.count() - news_df.dropDuplicates(['text']).count(), news_df.count()))"
   ]
  },
  {
   "cell_type": "code",
   "execution_count": 28,
   "id": "fd9a0ea6",
   "metadata": {},
   "outputs": [],
   "source": [
    "# Dropping duplicated news from \"text\" feature\n",
    "\n",
    "news_df = news_df.dropDuplicates([\"text\"])"
   ]
  },
  {
   "cell_type": "code",
   "execution_count": 29,
   "id": "3a40664e",
   "metadata": {},
   "outputs": [
    {
     "data": {
      "text/plain": [
       "37649"
      ]
     },
     "execution_count": 29,
     "metadata": {},
     "output_type": "execute_result"
    }
   ],
   "source": [
    "news_df.count()"
   ]
  },
  {
   "cell_type": "code",
   "execution_count": 30,
   "id": "3eead07c",
   "metadata": {},
   "outputs": [
    {
     "name": "stdout",
     "output_type": "stream",
     "text": [
      "The total number of unique news in our dataset is: 37649\n"
     ]
    }
   ],
   "source": [
    "print(\"The total number of unique news in our dataset is: {:d}\".format(news_df.count()))"
   ]
  },
  {
   "cell_type": "markdown",
   "id": "27b1c9ce",
   "metadata": {},
   "source": [
    "### Text Preprocessing phase\n",
    "\n",
    "    1.  Text cleaning \n",
    "    2.  Tokenization \n",
    "    3.  Stopwards removal\n",
    "    4.  Stemming "
   ]
  },
  {
   "cell_type": "code",
   "execution_count": 31,
   "id": "72e57689",
   "metadata": {},
   "outputs": [],
   "source": [
    "from pyspark.sql.functions import udf, col, lower, trim, regexp_replace\n",
    "from pyspark.ml.feature import Tokenizer, StopWordsRemover\n",
    "from nltk.stem.snowball import SnowballStemmer"
   ]
  },
  {
   "cell_type": "code",
   "execution_count": 32,
   "id": "d13fd5cd",
   "metadata": {},
   "outputs": [],
   "source": [
    "def text_preprocessing(df, column_name=\"content\"):\n",
    "   \n",
    "    # Text Cleaning\n",
    "    lower_case_news_df = df.withColumn(column_name, lower(col(column_name)))\n",
    "\n",
    "    # Trimming the text\n",
    "    trimmed_news_df = lower_case_news_df.withColumn(column_name, trim(col(column_name)))\n",
    "\n",
    "    # Filtering out punctuations in the text\n",
    "    no_punct_news_df = trimmed_news_df.withColumn(column_name, (regexp_replace(col(column_name), \"[^a-zA-Z\\\\s]\", \"\")))\n",
    "\n",
    "    # Removing any extra whitespaces\n",
    "    cleaned_news_df = no_punct_news_df.withColumn(column_name, trim(regexp_replace(col(column_name), \" +\", \" \")))\n",
    "\n",
    "    # Splitting text into tokens\n",
    "    tokenizer = Tokenizer(inputCol=column_name, outputCol=\"tokens\")\n",
    "    tokens_df = tokenizer.transform(cleaned_news_df)\n",
    "\n",
    "    # Removing Stopwords\n",
    "    stopwords_remover = StopWordsRemover(inputCol=\"tokens\", outputCol=\"terms\")\n",
    "    terms_df = stopwords_remover.transform(tokens_df)\n",
    "   \n",
    "    # Stemming words\n",
    "    stemmer = SnowballStemmer(language=\"english\")\n",
    "    stemmer_udf = udf(lambda tokens: [stemmer.stem(token) for token in tokens], ArrayType(StringType()))\n",
    "    terms_stemmed_df = terms_df.withColumn(\"terms_stemmed\", stemmer_udf(\"terms\"))    \n",
    "    \n",
    "    return terms_stemmed_df"
   ]
  },
  {
   "cell_type": "code",
   "execution_count": 33,
   "id": "76a61830",
   "metadata": {},
   "outputs": [
    {
     "data": {
      "text/plain": [
       "pyspark.sql.dataframe.DataFrame"
      ]
     },
     "execution_count": 33,
     "metadata": {},
     "output_type": "execute_result"
    }
   ],
   "source": [
    "# Checking the type of our dataset\n",
    "\n",
    "reduced_df = news_df.limit(10)\n",
    "type(reduced_df)"
   ]
  },
  {
   "cell_type": "code",
   "execution_count": 34,
   "id": "b73735ee",
   "metadata": {},
   "outputs": [],
   "source": [
    "# Calling our text pre-processing function in order to apply it to the dataframe\n",
    "\n",
    "transform_df = text_preprocessing(news_df, \"text\")"
   ]
  },
  {
   "cell_type": "code",
   "execution_count": 35,
   "id": "9840b91d",
   "metadata": {
    "scrolled": false
   },
   "outputs": [
    {
     "name": "stdout",
     "output_type": "stream",
     "text": [
      "+--------------------+-----+--------------------+--------------------+--------------------+\n",
      "|                text|label|              tokens|               terms|       terms_stemmed|\n",
      "+--------------------+-----+--------------------+--------------------+--------------------+\n",
      "|washington reuter...|    0|[washington, reut...|[washington, reut...|[washington, reut...|\n",
      "|gaza reuters the ...|    0|[gaza, reuters, t...|[gaza, reuters, u...|[gaza, reuter, un...|\n",
      "|get to know this ...|    1|[get, to, know, t...|[get, know, woman...|[get, know, woman...|\n",
      "|after widespread ...|    1|[after, widesprea...|[widespread, bipa...|[widespread, bipa...|\n",
      "|if anything more ...|    1|[if, anything, mo...|[anything, grunt,...|[anyth, grunt, pa...|\n",
      "|beijing reuters t...|    0|[beijing, reuters...|[beijing, reuters...|[beij, reuter, un...|\n",
      "|washington reuter...|    0|[washington, reut...|[washington, reut...|[washington, reut...|\n",
      "|on the surface th...|    1|[on, the, surface...|[surface, seems, ...|[surfac, seem, li...|\n",
      "|san jose reuters ...|    0|[san, jose, reute...|[san, jose, reute...|[san, jose, reute...|\n",
      "|while the controv...|    1|[while, the, cont...|[controversy, tru...|[controversi, tru...|\n",
      "+--------------------+-----+--------------------+--------------------+--------------------+\n",
      "only showing top 10 rows\n",
      "\n"
     ]
    }
   ],
   "source": [
    "# Showing the transformations of the df after calling the above function\n",
    "\n",
    "transform_df.show(n=10)"
   ]
  },
  {
   "cell_type": "markdown",
   "id": "10866d80",
   "metadata": {},
   "source": [
    "### Feature Engineering Phase\n"
   ]
  },
  {
   "cell_type": "code",
   "execution_count": 36,
   "id": "cb0824a4",
   "metadata": {},
   "outputs": [],
   "source": [
    "from pyspark.ml.feature import CountVectorizer, IDF\n",
    "from pyspark.ml import Pipeline"
   ]
  },
  {
   "cell_type": "code",
   "execution_count": 37,
   "id": "4d9e68d9",
   "metadata": {},
   "outputs": [
    {
     "data": {
      "text/plain": [
       "['text', 'label', 'tokens', 'terms', 'terms_stemmed']"
      ]
     },
     "execution_count": 37,
     "metadata": {},
     "output_type": "execute_result"
    }
   ],
   "source": [
    "transform_df.columns"
   ]
  },
  {
   "cell_type": "code",
   "execution_count": 38,
   "id": "0fe64948",
   "metadata": {},
   "outputs": [],
   "source": [
    "from pyspark.sql.functions import size\n",
    "\n",
    "count_df = transform_df.select('*',size('terms_stemmed').alias('length'))"
   ]
  },
  {
   "cell_type": "code",
   "execution_count": 39,
   "id": "0c4d3803",
   "metadata": {},
   "outputs": [
    {
     "name": "stdout",
     "output_type": "stream",
     "text": [
      "+--------------------+-----+--------------------+--------------------+--------------------+------+\n",
      "|                text|label|              tokens|               terms|       terms_stemmed|length|\n",
      "+--------------------+-----+--------------------+--------------------+--------------------+------+\n",
      "|washington reuter...|    0|[washington, reut...|[washington, reut...|[washington, reut...|   182|\n",
      "|gaza reuters the ...|    0|[gaza, reuters, t...|[gaza, reuters, u...|[gaza, reuter, un...|    39|\n",
      "|get to know this ...|    1|[get, to, know, t...|[get, know, woman...|[get, know, woman...|    77|\n",
      "|after widespread ...|    1|[after, widesprea...|[widespread, bipa...|[widespread, bipa...|   250|\n",
      "|if anything more ...|    1|[if, anything, mo...|[anything, grunt,...|[anyth, grunt, pa...|   171|\n",
      "|beijing reuters t...|    0|[beijing, reuters...|[beijing, reuters...|[beij, reuter, un...|   226|\n",
      "|washington reuter...|    0|[washington, reut...|[washington, reut...|[washington, reut...|   243|\n",
      "|on the surface th...|    1|[on, the, surface...|[surface, seems, ...|[surfac, seem, li...|   361|\n",
      "|san jose reuters ...|    0|[san, jose, reute...|[san, jose, reute...|[san, jose, reute...|   154|\n",
      "|while the controv...|    1|[while, the, cont...|[controversy, tru...|[controversi, tru...|   181|\n",
      "|meryl streep made...|    1|[meryl, streep, m...|[meryl, streep, m...|[meryl, streep, m...|   277|\n",
      "|fox news catherin...|    1|[fox, news, cathe...|[fox, news, cathe...|[fox, news, cathe...|    35|\n",
      "|donald trump is n...|    1|[donald, trump, i...|[donald, trump, d...|[donald, trump, d...|   296|\n",
      "|on january yearol...|    1|[on, january, yea...|[january, yearold...|[januari, yearold...|   422|\n",
      "|chicago reuters l...|    0|[chicago, reuters...|[chicago, reuters...|[chicago, reuter,...|   188|\n",
      "|legendary journal...|    1|[legendary, journ...|[legendary, journ...|[legendari, journ...|   178|\n",
      "|texas democrat re...|    1|[texas, democrat,...|[texas, democrat,...|[texa, democrat, ...|   171|\n",
      "|hillary clinton s...|    1|[hillary, clinton...|[hillary, clinton...|[hillari, clinton...|    59|\n",
      "|jeh johnson is su...|    1|[jeh, johnson, is...|[jeh, johnson, su...|[jeh, johnson, su...|   130|\n",
      "|ronald reagan shu...|    1|[ronald, reagan, ...|[ronald, reagan, ...|[ronald, reagan, ...|     8|\n",
      "+--------------------+-----+--------------------+--------------------+--------------------+------+\n",
      "only showing top 20 rows\n",
      "\n"
     ]
    }
   ],
   "source": [
    "count_df.show()"
   ]
  },
  {
   "cell_type": "code",
   "execution_count": 40,
   "id": "c93513af",
   "metadata": {},
   "outputs": [],
   "source": [
    "# convert to pandas to visualize the length of the documents\n",
    "\n",
    "visualize_len = count_df.select(\"length\").toPandas()"
   ]
  },
  {
   "cell_type": "code",
   "execution_count": 41,
   "id": "d14059e1",
   "metadata": {},
   "outputs": [
    {
     "data": {
      "text/plain": [
       "Text(0, 0.5, 'Frequency')"
      ]
     },
     "execution_count": 41,
     "metadata": {},
     "output_type": "execute_result"
    },
    {
     "data": {
      "image/png": "[encoded data removed]",
      "text/plain": [
       "<Figure size 432x288 with 1 Axes>"
      ]
     },
     "metadata": {},
     "output_type": "display_data"
    }
   ],
   "source": [
    "# histogram \n",
    "\n",
    "plt.xlim([0,1000])\n",
    "plt.hist(visualize_len, bins=20)\n",
    "plt.xlabel(\"Number of tokens\")\n",
    "plt.ylabel(\"Frequency\")"
   ]
  },
  {
   "cell_type": "code",
   "execution_count": 42,
   "id": "cb60b389",
   "metadata": {},
   "outputs": [],
   "source": [
    "reduced_df = transform_df.limit(15)"
   ]
  },
  {
   "cell_type": "code",
   "execution_count": 43,
   "id": "4e238a92",
   "metadata": {},
   "outputs": [],
   "source": [
    "def feature_extraction(df, column_name=\"terms_stemmed\"):   \n",
    "    \n",
    "    cv = CountVectorizer(inputCol=column_name, outputCol=\"count_vectorizer\", vocabSize=100, minDF=5)\n",
    "    tf = IDF(inputCol=\"count_vectorizer\", outputCol=\"tf_features\")\n",
    "    \n",
    "    pipeline = Pipeline(stages=[cv,tf])\n",
    "    features = pipeline.fit(df)\n",
    "    tf_idf = features.transform(df)\n",
    "    \n",
    "    return tf_idf"
   ]
  },
  {
   "cell_type": "code",
   "execution_count": 44,
   "id": "e3536071",
   "metadata": {},
   "outputs": [],
   "source": [
    "features_tf_df = feature_extraction(reduced_df)"
   ]
  },
  {
   "cell_type": "code",
   "execution_count": 45,
   "id": "e0feed56",
   "metadata": {},
   "outputs": [
    {
     "name": "stdout",
     "output_type": "stream",
     "text": [
      "+--------------------+-----+--------------------+--------------------+--------------------+--------------------+--------------------+\n",
      "|                text|label|              tokens|               terms|       terms_stemmed|    count_vectorizer|         tf_features|\n",
      "+--------------------+-----+--------------------+--------------------+--------------------+--------------------+--------------------+\n",
      "|washington reuter...|    0|[washington, reut...|[washington, reut...|[washington, reut...|(43,[1,4,5,6,8,9,...|(43,[1,4,5,6,8,9,...|\n",
      "|gaza reuters the ...|    0|[gaza, reuters, t...|[gaza, reuters, u...|[gaza, reuter, un...|(43,[0,1,4,7,10,1...|(43,[0,1,4,7,10,1...|\n",
      "|get to know this ...|    1|[get, to, know, t...|[get, know, woman...|[get, know, woman...|(43,[0,1,2,8,10,1...|(43,[0,1,2,8,10,1...|\n",
      "|after widespread ...|    1|[after, widesprea...|[widespread, bipa...|[widespread, bipa...|(43,[0,1,2,3,4,6,...|(43,[0,1,2,3,4,6,...|\n",
      "|if anything more ...|    1|[if, anything, mo...|[anything, grunt,...|[anyth, grunt, pa...|(43,[2,3,5,6,11,1...|(43,[2,3,5,6,11,1...|\n",
      "|beijing reuters t...|    0|[beijing, reuters...|[beijing, reuters...|[beij, reuter, un...|(43,[0,1,3,4,5,7,...|(43,[0,1,3,4,5,7,...|\n",
      "|washington reuter...|    0|[washington, reut...|[washington, reut...|[washington, reut...|(43,[1,2,4,5,6,8,...|(43,[1,2,4,5,6,8,...|\n",
      "|on the surface th...|    1|[on, the, surface...|[surface, seems, ...|[surfac, seem, li...|(43,[1,2,3,5,6,7,...|(43,[1,2,3,5,6,7,...|\n",
      "|san jose reuters ...|    0|[san, jose, reute...|[san, jose, reute...|[san, jose, reute...|(43,[1,4,5,11,19,...|(43,[1,4,5,11,19,...|\n",
      "|while the controv...|    1|[while, the, cont...|[controversy, tru...|[controversi, tru...|(43,[0,3,6,14,15,...|(43,[0,3,6,14,15,...|\n",
      "+--------------------+-----+--------------------+--------------------+--------------------+--------------------+--------------------+\n",
      "only showing top 10 rows\n",
      "\n"
     ]
    }
   ],
   "source": [
    "# show the first 10 columns \n",
    "\n",
    "features_tf_df.show(10)"
   ]
  },
  {
   "cell_type": "code",
   "execution_count": 46,
   "id": "1f6b046e",
   "metadata": {},
   "outputs": [
    {
     "name": "stdout",
     "output_type": "stream",
     "text": [
      "+--------------------+--------------------+\n",
      "|    count_vectorizer|         tf_features|\n",
      "+--------------------+--------------------+\n",
      "|(43,[1,4,5,6,8,9,...|(43,[1,4,5,6,8,9,...|\n",
      "|(43,[0,1,4,7,10,1...|(43,[0,1,4,7,10,1...|\n",
      "|(43,[0,1,2,8,10,1...|(43,[0,1,2,8,10,1...|\n",
      "|(43,[0,1,2,3,4,6,...|(43,[0,1,2,3,4,6,...|\n",
      "|(43,[2,3,5,6,11,1...|(43,[2,3,5,6,11,1...|\n",
      "|(43,[0,1,3,4,5,7,...|(43,[0,1,3,4,5,7,...|\n",
      "|(43,[1,2,4,5,6,8,...|(43,[1,2,4,5,6,8,...|\n",
      "|(43,[1,2,3,5,6,7,...|(43,[1,2,3,5,6,7,...|\n",
      "|(43,[1,4,5,11,19,...|(43,[1,4,5,11,19,...|\n",
      "|(43,[0,3,6,14,15,...|(43,[0,3,6,14,15,...|\n",
      "+--------------------+--------------------+\n",
      "only showing top 10 rows\n",
      "\n"
     ]
    }
   ],
   "source": [
    "# display only the two last changes of the df\n",
    "\n",
    "features_tf_df.select(\"count_vectorizer\",\"tf_features\").show(n=10)\n"
   ]
  },
  {
   "cell_type": "markdown",
   "id": "4501a9bf",
   "metadata": {},
   "source": [
    "###  Model Training Phase"
   ]
  },
  {
   "cell_type": "code",
   "execution_count": 47,
   "id": "529130ca",
   "metadata": {},
   "outputs": [],
   "source": [
    "from pyspark.ml.evaluation import BinaryClassificationEvaluator \n",
    "from pyspark.ml.tuning import CrossValidator, ParamGridBuilder\n",
    "from pyspark.mllib.evaluation import BinaryClassificationMetrics\n"
   ]
  },
  {
   "cell_type": "code",
   "execution_count": 48,
   "id": "f36055ea",
   "metadata": {},
   "outputs": [],
   "source": [
    "# Splitting the dataset into 2 parts, train and testing 80% and 20% respectively\n",
    "\n",
    "train_split_df, test_split_df = features_tf_df.randomSplit([0.8,0.2])\n"
   ]
  },
  {
   "cell_type": "code",
   "execution_count": 49,
   "id": "eefbae92",
   "metadata": {},
   "outputs": [
    {
     "data": {
      "text/plain": [
       "2"
      ]
     },
     "execution_count": 49,
     "metadata": {},
     "output_type": "execute_result"
    }
   ],
   "source": [
    "test_split_df.count()"
   ]
  },
  {
   "cell_type": "code",
   "execution_count": 50,
   "id": "c74bdaab",
   "metadata": {},
   "outputs": [
    {
     "data": {
      "text/plain": [
       "13"
      ]
     },
     "execution_count": 50,
     "metadata": {},
     "output_type": "execute_result"
    }
   ],
   "source": [
    "train_split_df.count()"
   ]
  },
  {
   "cell_type": "code",
   "execution_count": 51,
   "id": "d5a625da",
   "metadata": {},
   "outputs": [
    {
     "data": {
      "text/plain": [
       "['text',\n",
       " 'label',\n",
       " 'tokens',\n",
       " 'terms',\n",
       " 'terms_stemmed',\n",
       " 'count_vectorizer',\n",
       " 'tf_features']"
      ]
     },
     "execution_count": 51,
     "metadata": {},
     "output_type": "execute_result"
    }
   ],
   "source": [
    "test_split_df.columns"
   ]
  },
  {
   "cell_type": "code",
   "execution_count": 52,
   "id": "aec18426",
   "metadata": {},
   "outputs": [
    {
     "name": "stdout",
     "output_type": "stream",
     "text": [
      "Garbage collector: collected 381 objects\n"
     ]
    }
   ],
   "source": [
    "# to free some space in RAM\n",
    "import gc\n",
    "\n",
    "test_split_df = test_split_df.drop(\"tokens\", \"terms\", \"terms_stemmed\", \"count_vectorizer\", \"text\")\n",
    "\n",
    "print(\"Garbage collector: collected %d objects\" % (gc.collect()))"
   ]
  },
  {
   "cell_type": "code",
   "execution_count": 53,
   "id": "7e983fb9",
   "metadata": {},
   "outputs": [
    {
     "name": "stdout",
     "output_type": "stream",
     "text": [
      "Garbage collector: collected 26 objects\n"
     ]
    }
   ],
   "source": [
    "train_split_df = train_split_df.drop(\"tokens\", \"terms\", \"terms_stemmed\", \"count_vectorizer\", \"text\")\n",
    "\n",
    "print(\"Garbage collector: collected %d objects\" % (gc.collect()))\n"
   ]
  },
  {
   "cell_type": "code",
   "execution_count": 54,
   "id": "b40f23b9",
   "metadata": {},
   "outputs": [
    {
     "data": {
      "text/plain": [
       "['label', 'tf_features']"
      ]
     },
     "execution_count": 54,
     "metadata": {},
     "output_type": "execute_result"
    }
   ],
   "source": [
    "test_split_df.columns"
   ]
  },
  {
   "cell_type": "code",
   "execution_count": 55,
   "id": "52540445",
   "metadata": {},
   "outputs": [
    {
     "data": {
      "text/plain": [
       "['label', 'tf_features']"
      ]
     },
     "execution_count": 55,
     "metadata": {},
     "output_type": "execute_result"
    }
   ],
   "source": [
    "train_split_df.columns"
   ]
  },
  {
   "cell_type": "markdown",
   "id": "36d33854",
   "metadata": {},
   "source": [
    "### Model  Functions / Automatization"
   ]
  },
  {
   "cell_type": "markdown",
   "id": "85590b2b",
   "metadata": {},
   "source": [
    "#### Perform Cross-Validation "
   ]
  },
  {
   "cell_type": "code",
   "execution_count": 56,
   "id": "d7929de7",
   "metadata": {},
   "outputs": [],
   "source": [
    "def cross_valid(df, estimator, num_folds, param_name, param_values, evaluator):\n",
    "    \n",
    "    # ParamMap(s) — the list of parameters we want to evaluate to find the best model\n",
    "\n",
    "    param_grid = ParamGridBuilder().baseOn({estimator.labelCol: 'label'}).baseOn([estimator.predictionCol, 'prediction'])\n",
    "    \n",
    "    for i in range(0, len(param_name)):\n",
    "        param_grid = param_grid.addGrid(param_name[i], param_values[i])\n",
    "        \n",
    "    param_grid = param_grid.build()\n",
    "    \n",
    "    cv = CrossValidator(estimator=estimator,\n",
    "                           estimatorParamMaps=param_grid,\n",
    "                           evaluator= evaluator,\n",
    "                           numFolds=num_folds, \n",
    "                           parallelism=8)\n",
    "    \n",
    "    training_model = cv.fit(df)\n",
    "                                    \n",
    "    \n",
    "    return training_model\n",
    "    "
   ]
  },
  {
   "cell_type": "markdown",
   "id": "f40a1aa2",
   "metadata": {},
   "source": [
    "#### Visualisation of ROC Curve"
   ]
  },
  {
   "cell_type": "code",
   "execution_count": 57,
   "id": "5d5f9dc9",
   "metadata": {},
   "outputs": [],
   "source": [
    "from pyspark.mllib.evaluation import BinaryClassificationMetrics\n",
    "\n",
    "class CurveMetrics(BinaryClassificationMetrics):\n",
    "    def __init__(self, *args):\n",
    "        super(CurveMetrics, self).__init__(*args)\n",
    "\n",
    "    def _to_list(self, rdd):\n",
    "        points = []\n",
    "        \n",
    "        for row in rdd.collect():\n",
    "            points += [(float(row._1()), float(row._2()))]\n",
    "        return points\n",
    "\n",
    "    def get_curve(self, method):\n",
    "        rdd = getattr(self._java_model, method)().toJavaRDD()\n",
    "        return self._to_list(rdd)"
   ]
  },
  {
   "cell_type": "markdown",
   "id": "75ddb818",
   "metadata": {},
   "source": [
    "### Evaluate performance on train/test data - Visualisation\n",
    "#### Automatization function"
   ]
  },
  {
   "cell_type": "code",
   "execution_count": 58,
   "id": "92eb152e",
   "metadata": {},
   "outputs": [],
   "source": [
    "from pyspark.mllib.evaluation import MulticlassMetrics\n",
    "\n",
    "def evaluate_performance(df, model):  \n",
    "    \n",
    "    best_model = model.bestModel\n",
    "    \n",
    "    # generate predictions\n",
    "    label_predictions = best_model.transform(df)\n",
    "    \n",
    "    # convert from int to double - the method requirement\n",
    "    label_predictions =  label_predictions.withColumn(\"label\", label_predictions.label.cast('double'))\n",
    "    label_predictions =  label_predictions.withColumn(\"prediction\", label_predictions.prediction.cast('double'))\n",
    "\n",
    "    metrics = MulticlassMetrics(label_predictions.select('prediction', 'label').rdd)\n",
    "    print(metrics.confusionMatrix().toArray())\n",
    "        \n",
    "    print(\"Accuracy for class 1: \", metrics.accuracy)\n",
    "    print(\"F1-score for class 0: \", metrics.fMeasure(0.0))\n",
    "    print(\"F1-score for class 1: \", metrics.fMeasure(1.0))   \n",
    "    \n",
    "    evaluate = BinaryClassificationEvaluator(labelCol=\"label\", metricName='areaUnderROC')\n",
    "    print(\"AreaUnderROC: \", evaluate.evaluate(label_predictions))\n",
    "    \n",
    "    pred = label_predictions.select('label','probability').rdd.map(lambda row: (float(row['probability'][1]), float(row['label'])))\n",
    "    points = CurveMetrics(pred).get_curve('roc')\n",
    "\n",
    "    plt.figure()\n",
    "    x_val = [x[0] for x in points]\n",
    "    y_val = [x[1] for x in points]\n",
    "    plt.title('ROC Curve')\n",
    "    plt.xlabel('False Positive Rate')\n",
    "    plt.ylabel('True Positive Rate')\n",
    "    plt.plot(x_val, y_val)\n"
   ]
  },
  {
   "cell_type": "markdown",
   "id": "51a1a87f",
   "metadata": {},
   "source": [
    "## Logistic Regression"
   ]
  },
  {
   "cell_type": "code",
   "execution_count": 78,
   "id": "bb35bd31",
   "metadata": {},
   "outputs": [],
   "source": [
    "from pyspark.ml.classification import LogisticRegression\n",
    "from pyspark.mllib.evaluation import MulticlassMetrics"
   ]
  },
  {
   "cell_type": "code",
   "execution_count": 146,
   "id": "1d911d0f",
   "metadata": {},
   "outputs": [
    {
     "data": {
      "text/plain": [
       "['label', 'tf_features']"
      ]
     },
     "execution_count": 146,
     "metadata": {},
     "output_type": "execute_result"
    }
   ],
   "source": [
    "train_split_df.columns"
   ]
  },
  {
   "cell_type": "code",
   "execution_count": 147,
   "id": "1344ce6d",
   "metadata": {},
   "outputs": [],
   "source": [
    "# Setup Logistic regression \n",
    "\n",
    "log_reg = LogisticRegression(featuresCol=\"tf_features\", labelCol='label')"
   ]
  },
  {
   "cell_type": "code",
   "execution_count": 148,
   "id": "8593a93f",
   "metadata": {},
   "outputs": [],
   "source": [
    "param_names = [log_reg.regParam, log_reg.maxIter]\n",
    "param_values = [[0.1, 0.01], [1,4]]\n",
    "\n",
    "ev = BinaryClassificationEvaluator(labelCol=\"label\", rawPredictionCol=\"prediction\")\n",
    "log_reg_cv = cross_valid(df=train_split_df ,estimator=log_reg, num_folds=5, param_name=param_names, param_values=param_values,evaluator=ev)"
   ]
  },
  {
   "cell_type": "markdown",
   "id": "2a07c448",
   "metadata": {},
   "source": [
    "#### Evaluate performance on Test Set"
   ]
  },
  {
   "cell_type": "code",
   "execution_count": 149,
   "id": "60ad7712",
   "metadata": {},
   "outputs": [
    {
     "name": "stderr",
     "output_type": "stream",
     "text": [
      "C:\\Users\\User\\anaconda3\\lib\\site-packages\\pyspark\\sql\\context.py:125: FutureWarning: Deprecated in 3.0.0. Use SparkSession.builder.getOrCreate() instead.\n",
      "  warnings.warn(\n"
     ]
    },
    {
     "name": "stdout",
     "output_type": "stream",
     "text": [
      "[[0. 2.]\n",
      " [1. 2.]]\n",
      "Accuracy for class 1:  0.4\n",
      "F1-score for class 0:  0.0\n",
      "F1-score for class 1:  0.5714285714285715\n",
      "AreaUnderROC:  0.6666666666666666\n"
     ]
    },
    {
     "data": {
      "image/png": "[encoded data removed]",
      "text/plain": [
       "<Figure size 432x288 with 1 Axes>"
      ]
     },
     "metadata": {},
     "output_type": "display_data"
    }
   ],
   "source": [
    "evaluate_performance_lr_testSet = evaluate_performance(df=test_split_df, model=log_reg_cv)\n"
   ]
  },
  {
   "cell_type": "markdown",
   "id": "a89c2442",
   "metadata": {},
   "source": [
    "#### Evaluate performance on Train Set"
   ]
  },
  {
   "cell_type": "code",
   "execution_count": 150,
   "id": "3e93908c",
   "metadata": {},
   "outputs": [
    {
     "name": "stdout",
     "output_type": "stream",
     "text": [
      "[[4. 0.]\n",
      " [0. 6.]]\n",
      "Accuracy for class 1:  1.0\n",
      "F1-score for class 0:  1.0\n",
      "F1-score for class 1:  1.0\n",
      "AreaUnderROC:  1.0\n"
     ]
    },
    {
     "data": {
      "image/png": "[encoded data removed]",
      "text/plain": [
       "<Figure size 432x288 with 1 Axes>"
      ]
     },
     "metadata": {},
     "output_type": "display_data"
    }
   ],
   "source": [
    "evaluate_performance_lr_trainSet = evaluate_performance(df=train_split_df, model=log_reg_cv)"
   ]
  },
  {
   "cell_type": "markdown",
   "id": "fbe925d8",
   "metadata": {},
   "source": [
    "#### Best tuned Hyper parameters"
   ]
  },
  {
   "cell_type": "code",
   "execution_count": 151,
   "id": "f0093fc8",
   "metadata": {},
   "outputs": [],
   "source": [
    "best_regParam = log_reg_cv.bestModel._java_obj.getRegParam()\n",
    "best_maxIter = log_reg_cv.bestModel._java_obj.getMaxIter()"
   ]
  },
  {
   "cell_type": "code",
   "execution_count": 152,
   "id": "23010ddd",
   "metadata": {},
   "outputs": [
    {
     "name": "stdout",
     "output_type": "stream",
     "text": [
      "Best iteration value:  1\n",
      "Best regularization parameter value:  0.1\n"
     ]
    }
   ],
   "source": [
    "print(\"Best iteration value: \", best_maxIter)\n",
    "print(\"Best regularization parameter value: \", best_regParam)"
   ]
  },
  {
   "cell_type": "markdown",
   "id": "a54ddf53",
   "metadata": {},
   "source": [
    "## Random Forest Classifier"
   ]
  },
  {
   "cell_type": "code",
   "execution_count": 153,
   "id": "6ed4b6fb",
   "metadata": {},
   "outputs": [],
   "source": [
    "from pyspark.ml.classification import RandomForestClassifier"
   ]
  },
  {
   "cell_type": "code",
   "execution_count": 154,
   "id": "0abdebb2",
   "metadata": {},
   "outputs": [],
   "source": [
    "# Setup Random Forest\n",
    "\n",
    "rf = RandomForestClassifier(featuresCol=\"tf_features\", labelCol='label')"
   ]
  },
  {
   "cell_type": "code",
   "execution_count": 1,
   "id": "acd0d1f0",
   "metadata": {},
   "outputs": [],
   "source": [
    "param_names = [rf.maxDepth, rf.numTrees]\n",
    "param_values = [[1,3,5,15,20], [10, 21, 28]]\n",
    "\n",
    "ev = BinaryClassificationEvaluator(labelCol=\"label\", rawPredictionCol=\"prediction\")\n",
    "cv_rf = cross_valid(df=train_split_df ,estimator=rf, num_folds=5, param_name=param_names, param_values=param_values,evaluator=ev)"
   ]
  },
  {
   "cell_type": "markdown",
   "id": "f40390d7",
   "metadata": {},
   "source": [
    "#### Evaluate performance on Test Set"
   ]
  },
  {
   "cell_type": "code",
   "execution_count": 157,
   "id": "3b617e74",
   "metadata": {},
   "outputs": [
    {
     "name": "stdout",
     "output_type": "stream",
     "text": [
      "[[1. 1.]\n",
      " [2. 1.]]\n",
      "Accuracy for class 1:  0.4\n",
      "F1-score for class 0:  0.4\n",
      "F1-score for class 1:  0.4\n",
      "AreaUnderROC:  0.5\n"
     ]
    },
    {
     "data": {
      "image/png": "[encoded data removed]",
      "text/plain": [
       "<Figure size 432x288 with 1 Axes>"
      ]
     },
     "metadata": {},
     "output_type": "display_data"
    }
   ],
   "source": [
    "evaluate_performance_rf_testSet = evaluate_performance(df=test_split_df, model=cv_rf)\n"
   ]
  },
  {
   "cell_type": "markdown",
   "id": "39b82a1d",
   "metadata": {},
   "source": [
    "#### Evaluate performance on Train Set"
   ]
  },
  {
   "cell_type": "code",
   "execution_count": 158,
   "id": "d98f71cb",
   "metadata": {},
   "outputs": [
    {
     "name": "stdout",
     "output_type": "stream",
     "text": [
      "[[4. 0.]\n",
      " [0. 6.]]\n",
      "Accuracy for class 1:  1.0\n",
      "F1-score for class 0:  1.0\n",
      "F1-score for class 1:  1.0\n",
      "AreaUnderROC:  1.0\n"
     ]
    },
    {
     "data": {
      "image/png": "[encoded data removed]",
      "text/plain": [
       "<Figure size 432x288 with 1 Axes>"
      ]
     },
     "metadata": {},
     "output_type": "display_data"
    }
   ],
   "source": [
    "evaluate_performance_rf_trainSet = evaluate_performance(df=train_split_df, model=cv_rf)\n"
   ]
  },
  {
   "cell_type": "markdown",
   "id": "1e56af92",
   "metadata": {},
   "source": [
    "#### Best tuned Hyper parameters"
   ]
  },
  {
   "cell_type": "code",
   "execution_count": 159,
   "id": "cfa0c84d",
   "metadata": {},
   "outputs": [],
   "source": [
    "best_maxDepth = cv_rf.bestModel._java_obj.getMaxDepth()\n",
    "best_numTrees = cv_rf.bestModel._java_obj.getNumTrees()"
   ]
  },
  {
   "cell_type": "code",
   "execution_count": 160,
   "id": "dbfe8381",
   "metadata": {},
   "outputs": [
    {
     "name": "stdout",
     "output_type": "stream",
     "text": [
      "Best max depth value:  1\n",
      "Best numberof trees :  10\n"
     ]
    }
   ],
   "source": [
    "print(\"Best max depth value: \", best_maxDepth)\n",
    "print(\"Best numberof trees : \", best_numTrees)"
   ]
  },
  {
   "cell_type": "markdown",
   "id": "00be1117",
   "metadata": {},
   "source": [
    "## Multilayer Perceptron Model"
   ]
  },
  {
   "cell_type": "code",
   "execution_count": 59,
   "id": "3faf9cff",
   "metadata": {},
   "outputs": [],
   "source": [
    "from pyspark.ml.classification import MultilayerPerceptronClassifier"
   ]
  },
  {
   "cell_type": "code",
   "execution_count": 60,
   "id": "7e4d1ca2",
   "metadata": {},
   "outputs": [],
   "source": [
    "mlp = MultilayerPerceptronClassifier(labelCol=\"label\", predictionCol=\"prediction\", featuresCol=\"tf_features\")"
   ]
  },
  {
   "cell_type": "code",
   "execution_count": 61,
   "id": "aaebd488",
   "metadata": {},
   "outputs": [],
   "source": [
    "param_names = [mlp.layers, mlp.maxIter, mlp.stepSize]\n",
    "param_values = [[[43, 5, 2], [43, 2, 2]], [110, 120], [0.01, 0.05, 0.1]]\n",
    "\n",
    "ev = BinaryClassificationEvaluator(labelCol=\"label\", rawPredictionCol=\"prediction\")\n",
    "mlp_cv = cross_valid(df=train_split_df ,estimator=mlp, num_folds=5, param_name=param_names, param_values=param_values,evaluator=ev)"
   ]
  },
  {
   "cell_type": "markdown",
   "id": "429b1b62",
   "metadata": {},
   "source": [
    "#### Evaluate performance on Test Set"
   ]
  },
  {
   "cell_type": "code",
   "execution_count": 62,
   "id": "6ff0045b",
   "metadata": {},
   "outputs": [
    {
     "name": "stderr",
     "output_type": "stream",
     "text": [
      "C:\\Users\\User\\anaconda3\\lib\\site-packages\\pyspark\\sql\\context.py:125: FutureWarning: Deprecated in 3.0.0. Use SparkSession.builder.getOrCreate() instead.\n",
      "  warnings.warn(\n"
     ]
    },
    {
     "name": "stdout",
     "output_type": "stream",
     "text": [
      "[[1. 0.]\n",
      " [0. 1.]]\n",
      "Accuracy for class 1:  1.0\n",
      "F1-score for class 0:  1.0\n",
      "F1-score for class 1:  1.0\n",
      "AreaUnderROC:  1.0\n"
     ]
    },
    {
     "data": {
      "image/png": "[encoded data removed]",
      "text/plain": [
       "<Figure size 432x288 with 1 Axes>"
      ]
     },
     "metadata": {},
     "output_type": "display_data"
    }
   ],
   "source": [
    "evaluate_performance_mlp_testSet = evaluate_performance(df=test_split_df, model=mlp_cv)"
   ]
  },
  {
   "cell_type": "markdown",
   "id": "ccd36622",
   "metadata": {},
   "source": [
    "#### Evaluate performance on Train Set"
   ]
  },
  {
   "cell_type": "code",
   "execution_count": 63,
   "id": "e0760420",
   "metadata": {},
   "outputs": [
    {
     "name": "stdout",
     "output_type": "stream",
     "text": [
      "[[5. 0.]\n",
      " [0. 8.]]\n",
      "Accuracy for class 1:  1.0\n",
      "F1-score for class 0:  1.0\n",
      "F1-score for class 1:  1.0\n",
      "AreaUnderROC:  1.0\n"
     ]
    },
    {
     "data": {
      "image/png": "[encoded data removed]",
      "text/plain": [
       "<Figure size 432x288 with 1 Axes>"
      ]
     },
     "metadata": {},
     "output_type": "display_data"
    }
   ],
   "source": [
    "evaluate_performance_mlp_trainSet = evaluate_performance(df=train_split_df, model=mlp_cv)"
   ]
  },
  {
   "cell_type": "code",
   "execution_count": 64,
   "id": "c92fdb0b",
   "metadata": {},
   "outputs": [],
   "source": [
    "best_alpha = mlp_cv.bestModel.getStepSize()\n",
    "best_layer = mlp_cv.bestModel.getLayers()\n",
    "best_iter =  mlp_cv.bestModel.getMaxIter()"
   ]
  },
  {
   "cell_type": "code",
   "execution_count": 65,
   "id": "b181089a",
   "metadata": {},
   "outputs": [
    {
     "name": "stdout",
     "output_type": "stream",
     "text": [
      "Best layer [43, 5, 2]\n",
      "Best learning rate: 0.01\n",
      "Best iteration value:  110\n"
     ]
    }
   ],
   "source": [
    "print(\"Best layer\", best_layer)\n",
    "print(\"Best learning rate:\", best_alpha)\n",
    "print(\"Best iteration value: \", best_iter)"
   ]
  },
  {
   "cell_type": "markdown",
   "id": "2b3f033d",
   "metadata": {},
   "source": [
    "## Transformers"
   ]
  },
  {
   "cell_type": "code",
   "execution_count": 161,
   "id": "593cc492",
   "metadata": {},
   "outputs": [],
   "source": [
    "from happytransformer import HappyTextClassification, TCTrainArgs\n"
   ]
  },
  {
   "cell_type": "code",
   "execution_count": 162,
   "id": "fa71a30d",
   "metadata": {},
   "outputs": [
    {
     "name": "stderr",
     "output_type": "stream",
     "text": [
      "loading configuration file https://huggingface.co/bert-base-uncased/resolve/main/config.json from cache at C:\\Users\\User/.cache\\huggingface\\transformers\\3c61d016573b14f7f008c02c4e51a366c67ab274726fe2910691e2a761acf43e.37395cee442ab11005bcd270f3c34464dc1704b715b5d7d52b1a461abe3b9e4e\n",
      "Model config BertConfig {\n",
      "  \"_name_or_path\": \"bert-base-uncased\",\n",
      "  \"architectures\": [\n",
      "    \"BertForMaskedLM\"\n",
      "  ],\n",
      "  \"attention_probs_dropout_prob\": 0.1,\n",
      "  \"classifier_dropout\": null,\n",
      "  \"gradient_checkpointing\": false,\n",
      "  \"hidden_act\": \"gelu\",\n",
      "  \"hidden_dropout_prob\": 0.1,\n",
      "  \"hidden_size\": 768,\n",
      "  \"initializer_range\": 0.02,\n",
      "  \"intermediate_size\": 3072,\n",
      "  \"layer_norm_eps\": 1e-12,\n",
      "  \"max_position_embeddings\": 512,\n",
      "  \"model_type\": \"bert\",\n",
      "  \"num_attention_heads\": 12,\n",
      "  \"num_hidden_layers\": 12,\n",
      "  \"pad_token_id\": 0,\n",
      "  \"position_embedding_type\": \"absolute\",\n",
      "  \"transformers_version\": \"4.19.2\",\n",
      "  \"type_vocab_size\": 2,\n",
      "  \"use_cache\": true,\n",
      "  \"vocab_size\": 30522\n",
      "}\n",
      "\n",
      "loading weights file https://huggingface.co/bert-base-uncased/resolve/main/pytorch_model.bin from cache at C:\\Users\\User/.cache\\huggingface\\transformers\\a8041bf617d7f94ea26d15e218abd04afc2004805632abc0ed2066aa16d50d04.faf6ea826ae9c5867d12b22257f9877e6b8367890837bd60f7c54a29633f7f2f\n",
      "Some weights of the model checkpoint at bert-base-uncased were not used when initializing BertForSequenceClassification: ['cls.predictions.transform.dense.bias', 'cls.predictions.bias', 'cls.predictions.transform.LayerNorm.bias', 'cls.predictions.decoder.weight', 'cls.seq_relationship.bias', 'cls.predictions.transform.dense.weight', 'cls.predictions.transform.LayerNorm.weight', 'cls.seq_relationship.weight']\n",
      "- This IS expected if you are initializing BertForSequenceClassification from the checkpoint of a model trained on another task or with another architecture (e.g. initializing a BertForSequenceClassification model from a BertForPreTraining model).\n",
      "- This IS NOT expected if you are initializing BertForSequenceClassification from the checkpoint of a model that you expect to be exactly identical (initializing a BertForSequenceClassification model from a BertForSequenceClassification model).\n",
      "Some weights of BertForSequenceClassification were not initialized from the model checkpoint at bert-base-uncased and are newly initialized: ['classifier.bias', 'classifier.weight']\n",
      "You should probably TRAIN this model on a down-stream task to be able to use it for predictions and inference.\n",
      "loading configuration file https://huggingface.co/bert-base-uncased/resolve/main/config.json from cache at C:\\Users\\User/.cache\\huggingface\\transformers\\3c61d016573b14f7f008c02c4e51a366c67ab274726fe2910691e2a761acf43e.37395cee442ab11005bcd270f3c34464dc1704b715b5d7d52b1a461abe3b9e4e\n",
      "Model config BertConfig {\n",
      "  \"_name_or_path\": \"bert-base-uncased\",\n",
      "  \"architectures\": [\n",
      "    \"BertForMaskedLM\"\n",
      "  ],\n",
      "  \"attention_probs_dropout_prob\": 0.1,\n",
      "  \"classifier_dropout\": null,\n",
      "  \"gradient_checkpointing\": false,\n",
      "  \"hidden_act\": \"gelu\",\n",
      "  \"hidden_dropout_prob\": 0.1,\n",
      "  \"hidden_size\": 768,\n",
      "  \"initializer_range\": 0.02,\n",
      "  \"intermediate_size\": 3072,\n",
      "  \"layer_norm_eps\": 1e-12,\n",
      "  \"max_position_embeddings\": 512,\n",
      "  \"model_type\": \"bert\",\n",
      "  \"num_attention_heads\": 12,\n",
      "  \"num_hidden_layers\": 12,\n",
      "  \"pad_token_id\": 0,\n",
      "  \"position_embedding_type\": \"absolute\",\n",
      "  \"transformers_version\": \"4.19.2\",\n",
      "  \"type_vocab_size\": 2,\n",
      "  \"use_cache\": true,\n",
      "  \"vocab_size\": 30522\n",
      "}\n",
      "\n",
      "loading file https://huggingface.co/bert-base-uncased/resolve/main/vocab.txt from cache at C:\\Users\\User/.cache\\huggingface\\transformers\\45c3f7a79a80e1cf0a489e5c62b43f173c15db47864303a55d623bb3c96f72a5.d789d64ebfe299b0e416afc4a169632f903f693095b4629a7ea271d5a0cf2c99\n",
      "loading file https://huggingface.co/bert-base-uncased/resolve/main/tokenizer.json from cache at C:\\Users\\User/.cache\\huggingface\\transformers\\534479488c54aeaf9c3406f647aa2ec13648c06771ffe269edabebd4c412da1d.7f2721073f19841be16f41b0a70b600ca6b880c8f3df6f3535cbc704371bdfa4\n",
      "loading file https://huggingface.co/bert-base-uncased/resolve/main/added_tokens.json from cache at None\n",
      "loading file https://huggingface.co/bert-base-uncased/resolve/main/special_tokens_map.json from cache at None\n",
      "loading file https://huggingface.co/bert-base-uncased/resolve/main/tokenizer_config.json from cache at C:\\Users\\User/.cache\\huggingface\\transformers\\c1d7f0a763fb63861cc08553866f1fc3e5a6f4f07621be277452d26d71303b7e.20430bd8e10ef77a7d2977accefe796051e01bc2fc4aa146bc862997a1a15e79\n",
      "loading configuration file https://huggingface.co/bert-base-uncased/resolve/main/config.json from cache at C:\\Users\\User/.cache\\huggingface\\transformers\\3c61d016573b14f7f008c02c4e51a366c67ab274726fe2910691e2a761acf43e.37395cee442ab11005bcd270f3c34464dc1704b715b5d7d52b1a461abe3b9e4e\n",
      "Model config BertConfig {\n",
      "  \"_name_or_path\": \"bert-base-uncased\",\n",
      "  \"architectures\": [\n",
      "    \"BertForMaskedLM\"\n",
      "  ],\n",
      "  \"attention_probs_dropout_prob\": 0.1,\n",
      "  \"classifier_dropout\": null,\n",
      "  \"gradient_checkpointing\": false,\n",
      "  \"hidden_act\": \"gelu\",\n",
      "  \"hidden_dropout_prob\": 0.1,\n",
      "  \"hidden_size\": 768,\n",
      "  \"initializer_range\": 0.02,\n",
      "  \"intermediate_size\": 3072,\n",
      "  \"layer_norm_eps\": 1e-12,\n",
      "  \"max_position_embeddings\": 512,\n",
      "  \"model_type\": \"bert\",\n",
      "  \"num_attention_heads\": 12,\n",
      "  \"num_hidden_layers\": 12,\n",
      "  \"pad_token_id\": 0,\n",
      "  \"position_embedding_type\": \"absolute\",\n",
      "  \"transformers_version\": \"4.19.2\",\n",
      "  \"type_vocab_size\": 2,\n",
      "  \"use_cache\": true,\n",
      "  \"vocab_size\": 30522\n",
      "}\n",
      "\n",
      "06/04/2022 23:56:47 - INFO - happytransformer.happy_transformer -   Using model: cpu\n"
     ]
    }
   ],
   "source": [
    "happy_tc = HappyTextClassification(model_type = \"BERT\", model_name=\"bert-base-uncased\", num_labels=2)\n"
   ]
  },
  {
   "cell_type": "markdown",
   "id": "08944292",
   "metadata": {},
   "source": [
    "#### Split the initial dataframe 'news_df' into train and test"
   ]
  },
  {
   "cell_type": "code",
   "execution_count": 163,
   "id": "1add3ed8",
   "metadata": {},
   "outputs": [],
   "source": [
    "r = news_df.limit(10)\n",
    "train_split_df, test_split_df = r.randomSplit([0.8,0.2])"
   ]
  },
  {
   "cell_type": "markdown",
   "id": "92940aed",
   "metadata": {},
   "source": [
    "#### Create a separate csv file for train and set "
   ]
  },
  {
   "cell_type": "code",
   "execution_count": 164,
   "id": "85d2e6fe",
   "metadata": {},
   "outputs": [],
   "source": [
    "train_toPandas = train_split_df.toPandas()\n",
    "train_toPandas.to_csv(\"train.csv\", index=False)"
   ]
  },
  {
   "cell_type": "code",
   "execution_count": 165,
   "id": "2b3d9161",
   "metadata": {},
   "outputs": [],
   "source": [
    "test_toPandas = test_split_df.toPandas()\n",
    "test_toPandas.to_csv(\"test_eval.csv\", index=False)"
   ]
  },
  {
   "cell_type": "markdown",
   "id": "953eea91",
   "metadata": {},
   "source": [
    "#### Loss of Train and Test set dataframes before training process"
   ]
  },
  {
   "cell_type": "code",
   "execution_count": 166,
   "id": "09569c0d",
   "metadata": {},
   "outputs": [
    {
     "name": "stderr",
     "output_type": "stream",
     "text": [
      "06/04/2022 23:56:52 - INFO - happytransformer.happy_transformer -   Preprocessing dataset...\n",
      "PyTorch: setting up devices\n",
      "***** Running Evaluation *****\n",
      "  Num examples = 4\n",
      "  Batch size = 1\n"
     ]
    },
    {
     "data": {
      "text/html": [
       "\n",
       "    <div>\n",
       "      \n",
       "      <progress value='4' max='4' style='width:300px; height:20px; vertical-align: middle;'></progress>\n",
       "      [4/4 00:05]\n",
       "    </div>\n",
       "    "
      ],
      "text/plain": [
       "<IPython.core.display.HTML object>"
      ]
     },
     "metadata": {},
     "output_type": "display_data"
    },
    {
     "name": "stderr",
     "output_type": "stream",
     "text": [
      "06/04/2022 23:57:00 - INFO - happytransformer.happy_transformer -   Preprocessing dataset...\n",
      "PyTorch: setting up devices\n",
      "***** Running Evaluation *****\n",
      "  Num examples = 6\n",
      "  Batch size = 1\n"
     ]
    },
    {
     "data": {
      "text/html": [
       "\n",
       "    <div>\n",
       "      \n",
       "      <progress value='6' max='6' style='width:300px; height:20px; vertical-align: middle;'></progress>\n",
       "      [6/6 00:09]\n",
       "    </div>\n",
       "    "
      ],
      "text/plain": [
       "<IPython.core.display.HTML object>"
      ]
     },
     "metadata": {},
     "output_type": "display_data"
    }
   ],
   "source": [
    "# prediction - label comparison\n",
    "\n",
    "before_loss_testSet = happy_tc.eval(\"test_eval.csv\").loss\n",
    "before_loss_trainSet = happy_tc.eval(\"train.csv\").loss"
   ]
  },
  {
   "cell_type": "code",
   "execution_count": 167,
   "id": "69a5ae3a",
   "metadata": {},
   "outputs": [
    {
     "name": "stdout",
     "output_type": "stream",
     "text": [
      "Loss before testing the test set:  0.374584436416626\n",
      "Loss before training the train set:  1.001082420349121\n"
     ]
    }
   ],
   "source": [
    "print(\"Loss before testing the test set: \", before_loss_testSet)\n",
    "print(\"Loss before training the train set: \", before_loss_trainSet)\n"
   ]
  },
  {
   "cell_type": "markdown",
   "id": "c72d63f3",
   "metadata": {},
   "source": [
    "#### Define parameters to train the df"
   ]
  },
  {
   "cell_type": "code",
   "execution_count": 168,
   "id": "417717ff",
   "metadata": {},
   "outputs": [],
   "source": [
    "args = TCTrainArgs(num_train_epochs=1, batch_size=16)"
   ]
  },
  {
   "cell_type": "markdown",
   "id": "6fe16ca8",
   "metadata": {},
   "source": [
    "#### Fine tuning the model"
   ]
  },
  {
   "cell_type": "code",
   "execution_count": 169,
   "id": "08c067e7",
   "metadata": {},
   "outputs": [
    {
     "name": "stderr",
     "output_type": "stream",
     "text": [
      "06/04/2022 23:57:11 - INFO - happytransformer.happy_transformer -   Preprocessing dataset...\n",
      "PyTorch: setting up devices\n",
      "C:\\Users\\User\\anaconda3\\lib\\site-packages\\transformers\\optimization.py:306: FutureWarning: This implementation of AdamW is deprecated and will be removed in a future version. Use the PyTorch implementation torch.optim.AdamW instead, or set `no_deprecation_warning=True` to disable this warning\n",
      "  warnings.warn(\n",
      "***** Running training *****\n",
      "  Num examples = 6\n",
      "  Num Epochs = 1\n",
      "  Instantaneous batch size per device = 16\n",
      "  Total train batch size (w. parallel, distributed & accumulation) = 16\n",
      "  Gradient Accumulation steps = 1\n",
      "  Total optimization steps = 1\n"
     ]
    },
    {
     "data": {
      "text/html": [
       "\n",
       "    <div>\n",
       "      \n",
       "      <progress value='1' max='1' style='width:300px; height:20px; vertical-align: middle;'></progress>\n",
       "      [1/1 00:00, Epoch 1/1]\n",
       "    </div>\n",
       "    <table border=\"1\" class=\"dataframe\">\n",
       "  <thead>\n",
       " <tr style=\"text-align: left;\">\n",
       "      <th>Step</th>\n",
       "      <th>Training Loss</th>\n",
       "    </tr>\n",
       "  </thead>\n",
       "  <tbody>\n",
       "  </tbody>\n",
       "</table><p>"
      ],
      "text/plain": [
       "<IPython.core.display.HTML object>"
      ]
     },
     "metadata": {},
     "output_type": "display_data"
    },
    {
     "name": "stderr",
     "output_type": "stream",
     "text": [
      "\n",
      "\n",
      "Training completed. Do not forget to share your model on huggingface.co/models =)\n",
      "\n",
      "\n"
     ]
    }
   ],
   "source": [
    "happy_tc.train(\"train.csv\", args=args)"
   ]
  },
  {
   "cell_type": "markdown",
   "id": "5f2033f0",
   "metadata": {},
   "source": [
    "#### Eval - Loss in Train and Test set after training the model\n",
    "- eval() --> Determines how well the model performs on a labeled dataset / loss in the test set.\n",
    "- test() --> Runs the model on an unlabeled dataset to produce predictions.\n",
    "- train() --> Fine-tune the model to become better at a certain task."
   ]
  },
  {
   "cell_type": "code",
   "execution_count": 170,
   "id": "a34f55a5",
   "metadata": {},
   "outputs": [
    {
     "name": "stderr",
     "output_type": "stream",
     "text": [
      "06/04/2022 23:57:42 - INFO - happytransformer.happy_transformer -   Preprocessing dataset...\n",
      "PyTorch: setting up devices\n",
      "***** Running Evaluation *****\n",
      "  Num examples = 4\n",
      "  Batch size = 1\n"
     ]
    },
    {
     "data": {
      "text/html": [
       "\n",
       "    <div>\n",
       "      \n",
       "      <progress value='4' max='4' style='width:300px; height:20px; vertical-align: middle;'></progress>\n",
       "      [4/4 00:06]\n",
       "    </div>\n",
       "    "
      ],
      "text/plain": [
       "<IPython.core.display.HTML object>"
      ]
     },
     "metadata": {},
     "output_type": "display_data"
    },
    {
     "name": "stderr",
     "output_type": "stream",
     "text": [
      "06/04/2022 23:57:50 - INFO - happytransformer.happy_transformer -   Preprocessing dataset...\n",
      "PyTorch: setting up devices\n",
      "***** Running Evaluation *****\n",
      "  Num examples = 6\n",
      "  Batch size = 1\n"
     ]
    },
    {
     "data": {
      "text/html": [
       "\n",
       "    <div>\n",
       "      \n",
       "      <progress value='6' max='6' style='width:300px; height:20px; vertical-align: middle;'></progress>\n",
       "      [6/6 00:10]\n",
       "    </div>\n",
       "    "
      ],
      "text/plain": [
       "<IPython.core.display.HTML object>"
      ]
     },
     "metadata": {},
     "output_type": "display_data"
    }
   ],
   "source": [
    "after_loss_testSet = happy_tc.eval(\"test_eval.csv\").loss\n",
    "after_loss_trainSet = happy_tc.eval(\"train.csv\").loss"
   ]
  },
  {
   "cell_type": "code",
   "execution_count": 171,
   "id": "0dec6364",
   "metadata": {},
   "outputs": [
    {
     "name": "stdout",
     "output_type": "stream",
     "text": [
      "Loss after testing the test set:  0.5877059698104858\n",
      "Loss after training the train set:  0.6716809272766113\n"
     ]
    }
   ],
   "source": [
    "print(\"Loss after testing the test set: \", after_loss_testSet)\n",
    "print(\"Loss after training the train set: \", after_loss_trainSet)"
   ]
  },
  {
   "cell_type": "markdown",
   "id": "9db9ae6f",
   "metadata": {},
   "source": [
    "#### Test - running the model on an unlabeled dataset to produce predictions"
   ]
  },
  {
   "cell_type": "code",
   "execution_count": 172,
   "id": "b59fb77a",
   "metadata": {},
   "outputs": [],
   "source": [
    "column_Text = test_split_df.select(\"text\")"
   ]
  },
  {
   "cell_type": "code",
   "execution_count": 173,
   "id": "a9215b5c",
   "metadata": {},
   "outputs": [],
   "source": [
    "c = column_Text.toPandas()\n",
    "c.to_csv(\"text.csv\", index=False)"
   ]
  },
  {
   "cell_type": "code",
   "execution_count": 174,
   "id": "fd46c288",
   "metadata": {},
   "outputs": [
    {
     "name": "stderr",
     "output_type": "stream",
     "text": [
      "100%|████████████████████████████████████████████████████████████████████████████████████| 4/4 [00:04<00:00,  1.10s/it]\n"
     ]
    }
   ],
   "source": [
    "result = happy_tc.test(\"text.csv\")"
   ]
  },
  {
   "cell_type": "code",
   "execution_count": 175,
   "id": "644a43d3",
   "metadata": {},
   "outputs": [
    {
     "name": "stdout",
     "output_type": "stream",
     "text": [
      "2377\n",
      "432\n",
      "1543\n",
      "2001\n"
     ]
    }
   ],
   "source": [
    "for i in c[\"text\"]:\n",
    "    print(len(i))"
   ]
  },
  {
   "cell_type": "code",
   "execution_count": 176,
   "id": "2dc33f32",
   "metadata": {},
   "outputs": [
    {
     "name": "stdout",
     "output_type": "stream",
     "text": [
      "<class 'list'>\n"
     ]
    }
   ],
   "source": [
    "print(type(result))"
   ]
  },
  {
   "cell_type": "code",
   "execution_count": 177,
   "id": "c519bc34",
   "metadata": {},
   "outputs": [
    {
     "name": "stdout",
     "output_type": "stream",
     "text": [
      "[TextClassificationResult(label='LABEL_0', score=0.5540649890899658), TextClassificationResult(label='LABEL_0', score=0.5520163178443909), TextClassificationResult(label='LABEL_0', score=0.5546985864639282), TextClassificationResult(label='LABEL_0', score=0.561668872833252)]\n"
     ]
    }
   ],
   "source": [
    "# probabilities\n",
    "\n",
    "print(result)"
   ]
  },
  {
   "cell_type": "code",
   "execution_count": 178,
   "id": "c97014ae",
   "metadata": {},
   "outputs": [
    {
     "name": "stdout",
     "output_type": "stream",
     "text": [
      "TextClassificationResult(label='LABEL_0', score=0.5540649890899658)\n"
     ]
    }
   ],
   "source": [
    "print(result[0])"
   ]
  },
  {
   "cell_type": "code",
   "execution_count": 179,
   "id": "c2968d92",
   "metadata": {},
   "outputs": [
    {
     "name": "stdout",
     "output_type": "stream",
     "text": [
      "LABEL_0\n"
     ]
    }
   ],
   "source": [
    "print(result[0].label)"
   ]
  },
  {
   "cell_type": "code",
   "execution_count": null,
   "id": "a241371f",
   "metadata": {},
   "outputs": [],
   "source": []
  }
 ],
 "metadata": {
  "kernelspec": {
   "display_name": "Python 3 (ipykernel)",
   "language": "python",
   "name": "python3"
  },
  "language_info": {
   "codemirror_mode": {
    "name": "ipython",
    "version": 3
   },
   "file_extension": ".py",
   "mimetype": "text/x-python",
   "name": "python",
   "nbconvert_exporter": "python",
   "pygments_lexer": "ipython3",
   "version": "3.9.7"
  }
 },
 "nbformat": 4,
 "nbformat_minor": 5
}
